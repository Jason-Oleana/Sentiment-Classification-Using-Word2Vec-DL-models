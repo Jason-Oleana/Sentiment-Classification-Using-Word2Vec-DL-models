{
 "cells": [
  {
   "cell_type": "markdown",
   "metadata": {},
   "source": []
  },
  {
   "cell_type": "code",
   "execution_count": 1,
   "metadata": {},
   "outputs": [
    {
     "name": "stdout",
     "output_type": "stream",
     "text": [
      "2.2.0\n"
     ]
    }
   ],
   "source": [
    "import numpy as np\n",
    "import pandas as pd\n",
    "import numpy\n",
    "import os, json, csv\n",
    "import tensorflow as tf\n",
    "from tensorflow.keras.preprocessing import text, sequence\n",
    "from tensorflow.keras.models import Sequential\n",
    "from tensorflow.keras.layers import Dense, Dropout, Activation, BatchNormalization, Reshape\n",
    "from tensorflow.keras.layers import Embedding\n",
    "from tensorflow.keras.layers import Conv1D, GlobalMaxPooling1D, MaxPooling1D, AveragePooling1D\n",
    "from tensorflow.keras.layers import LSTM, Bidirectional\n",
    "from sklearn.model_selection import train_test_split\n",
    "print(tf.__version__)"
   ]
  },
  {
   "cell_type": "markdown",
   "metadata": {},
   "source": [
    "# Step 1: Open Tweets.csv & Extract features and labels"
   ]
  },
  {
   "cell_type": "markdown",
   "metadata": {},
   "source": [
    "# Open CSV files"
   ]
  },
  {
   "cell_type": "code",
   "execution_count": 2,
   "metadata": {},
   "outputs": [],
   "source": [
    "import numpy as np\n",
    "import csv\n",
    "\n",
    "def TweetExtractor(csv_file):\n",
    "\n",
    "    tweets = []\n",
    "    labels = []\n",
    "    with open(csv_file, encoding='utf-8') as csv_file:\n",
    "        csv_reader = csv.reader(csv_file, delimiter=',')\n",
    "        try:\n",
    "            for index, row in enumerate(csv_reader):\n",
    "                if index > 0:\n",
    "                    sentiment = row[1]\n",
    "                    sentiment_conf = float(row[2])\n",
    "                    transcript = row[10]\n",
    "                    if sentiment_conf >= 0.80:\n",
    "                        tweets.append(transcript)\n",
    "                        labels.append(sentiment)\n",
    "                    else:\n",
    "                        (\"low conf\")\n",
    "                    \n",
    "                else:\n",
    "                    pass\n",
    "        except Exception as e:\n",
    "            print(\"Exception: {}\".format(e))\n",
    "        \n",
    "    tweets = np.array(tweets)\n",
    "    labels = np.array(labels)\n",
    "    \n",
    "    return tweets, labels\n",
    "\n",
    "tweets, labels = TweetExtractor(\"Tweets.csv\")"
   ]
  },
  {
   "cell_type": "markdown",
   "metadata": {},
   "source": [
    "# Plot label distribution"
   ]
  },
  {
   "cell_type": "code",
   "execution_count": 3,
   "metadata": {},
   "outputs": [
    {
     "name": "stdout",
     "output_type": "stream",
     "text": [
      "[7392 1550 1517]\n",
      "['negative' 'neutral' 'positive']\n"
     ]
    },
    {
     "data": {
      "text/plain": [
       "<Figure size 640x480 with 1 Axes>"
      ]
     },
     "metadata": {},
     "output_type": "display_data"
    }
   ],
   "source": [
    "import numpy\n",
    "label_dist, label_dist_count = numpy.unique(labels, return_counts = True)\n",
    "label_dist = label_dist.astype(\"str\")\n",
    "\n",
    "print(label_dist_count)\n",
    "print(label_dist)\n",
    "\n",
    "import matplotlib.pyplot as plt\n",
    "fig = plt.figure()\n",
    "ax = fig.add_axes([0,0,1,1])\n",
    "ax.set_ylabel('Count')\n",
    "ax.set_title('Label distribution')\n",
    "ax.bar(label_dist,label_dist_count)\n",
    "plt.show()"
   ]
  },
  {
   "cell_type": "markdown",
   "metadata": {},
   "source": [
    "# Step 2: Remove duplicates"
   ]
  },
  {
   "cell_type": "code",
   "execution_count": 4,
   "metadata": {},
   "outputs": [
    {
     "name": "stdout",
     "output_type": "stream",
     "text": [
      "The number of unique idx in X_data_array: 10356\n",
      "\n"
     ]
    }
   ],
   "source": [
    "__, index_list, counts = numpy.unique(tweets, return_index=True, return_counts = True, axis = 0)\n",
    "print(\"The number of unique idx in X_data_array: {}\\n\".format(len(index_list)))"
   ]
  },
  {
   "cell_type": "code",
   "execution_count": 5,
   "metadata": {},
   "outputs": [],
   "source": [
    "unique_training_data = []\n",
    "unique_training_label = []\n",
    "\n",
    "for index, (transcript, label) in enumerate(zip(tweets, labels)):\n",
    "    \n",
    "    # if index is in index_list\n",
    "    if index in index_list:\n",
    "        unique_training_data.append(transcript)\n",
    "        unique_training_label.append(label)\n",
    "        \n",
    "    else:\n",
    "        pass\n",
    "    \n",
    "unique_training_data = numpy.array(unique_training_data)\n",
    "unique_training_label = numpy.array(unique_training_label)"
   ]
  },
  {
   "cell_type": "markdown",
   "metadata": {},
   "source": [
    "# Step 3: Clean tweets\n",
    "- lowercase\n",
    "- remove punctuations\n",
    "- remove white spaces"
   ]
  },
  {
   "cell_type": "code",
   "execution_count": 6,
   "metadata": {},
   "outputs": [
    {
     "name": "stdout",
     "output_type": "stream",
     "text": [
      "training phrase example after data cleaning: \n",
      "virginamerica its really aggressive to blast obnoxious entertainment in your guests faces amp they have little recourse\n"
     ]
    }
   ],
   "source": [
    "import string\n",
    "import re \n",
    "\n",
    "def processor(X_data_array):\n",
    "    clean_data_array = []\n",
    "    for sentence in X_data_array:\n",
    "        # Lowercase\n",
    "        sentence = sentence.lower()\n",
    "        \n",
    "        # Remove punctuations\n",
    "        sentence = sentence.translate(str.maketrans('', '', string.punctuation))\n",
    "        \n",
    "        # Remove white spaces\n",
    "        sentence = re.sub(' +', ' ',sentence).strip()\n",
    "        \n",
    "        # Append cleaned sentences\n",
    "        clean_data_array.append(sentence)\n",
    "\n",
    "    clean_data_array = numpy.array(clean_data_array)\n",
    "    return clean_data_array\n",
    "\n",
    "\n",
    "unique_training_data = processor(unique_training_data)\n",
    "\n",
    "print(\"training phrase example after data cleaning: \\n{}\".format(unique_training_data[1]))"
   ]
  },
  {
   "cell_type": "markdown",
   "metadata": {},
   "source": [
    "# Step 4: Tokenizer and pad text data to sequence"
   ]
  },
  {
   "cell_type": "code",
   "execution_count": 7,
   "metadata": {},
   "outputs": [
    {
     "name": "stdout",
     "output_type": "stream",
     "text": [
      "len of total features: 13886\n",
      "max sentence len: 36\n"
     ]
    }
   ],
   "source": [
    "word_dict = {}\n",
    "for sentence in unique_training_data:\n",
    "    for word in sentence.split(\" \"):\n",
    "        if word not in word_dict:\n",
    "            word_dict[word] = True\n",
    "\n",
    "max_sentence_length = 0\n",
    "for sentence in unique_training_data:\n",
    "    sentence = sentence.split(\" \")\n",
    "    sentence_len = len(sentence)\n",
    "    if sentence_len > max_sentence_length:\n",
    "        max_sentence_length = sentence_len\n",
    "\n",
    "print(\"len of total features: {}\".format(len(word_dict)))\n",
    "print(\"max sentence len: {}\".format(max_sentence_length))"
   ]
  },
  {
   "cell_type": "markdown",
   "metadata": {},
   "source": [
    "# Tokenization"
   ]
  },
  {
   "cell_type": "code",
   "execution_count": 10,
   "metadata": {},
   "outputs": [],
   "source": [
    "from keras.preprocessing.text import text_to_word_sequence\n",
    "tokenized_data = []\n",
    "for sentence in unique_training_data:\n",
    "    tokens = text_to_word_sequence(sentence)\n",
    "    tokenized_data.append(tokens)"
   ]
  },
  {
   "cell_type": "markdown",
   "metadata": {},
   "source": [
    "# pad text data to sequence"
   ]
  },
  {
   "cell_type": "code",
   "execution_count": 11,
   "metadata": {},
   "outputs": [],
   "source": [
    "vocab_size = len(word_dict)\n",
    "max_text_length = max_sentence_length\n",
    "x_tokenizer = text.Tokenizer(num_words=vocab_size)\n",
    "x_tokenizer.fit_on_texts(tokenized_data)\n",
    "x_tokenized = x_tokenizer.texts_to_sequences(tokenized_data)\n",
    "x_train_data = sequence.pad_sequences(x_tokenized, maxlen=max_text_length)"
   ]
  },
  {
   "cell_type": "markdown",
   "metadata": {},
   "source": [
    "# get word index vocab"
   ]
  },
  {
   "cell_type": "code",
   "execution_count": 12,
   "metadata": {},
   "outputs": [],
   "source": [
    "word_index = x_tokenizer.word_index"
   ]
  },
  {
   "cell_type": "markdown",
   "metadata": {},
   "source": [
    "# train Word2Vec model"
   ]
  },
  {
   "cell_type": "code",
   "execution_count": 13,
   "metadata": {},
   "outputs": [],
   "source": [
    "from gensim.models import Word2Vec\n",
    "\n",
    "embed_dim = 300\n",
    "\n",
    "model = Word2Vec(tokenized_data,iter=20, min_count=1, sg = 1, size = embed_dim, compute_loss = True, workers = 4)"
   ]
  },
  {
   "cell_type": "markdown",
   "metadata": {},
   "source": [
    "# create a weight matrix for the Embedding layer"
   ]
  },
  {
   "cell_type": "code",
   "execution_count": 14,
   "metadata": {},
   "outputs": [
    {
     "name": "stderr",
     "output_type": "stream",
     "text": [
      "C:\\Users\\voice\\anaconda3\\lib\\site-packages\\ipykernel_launcher.py:1: DeprecationWarning: Call to deprecated `syn0` (Attribute will be removed in 4.0.0, use self.vectors instead).\n",
      "  \"\"\"Entry point for launching an IPython kernel.\n"
     ]
    }
   ],
   "source": [
    "w2v = dict(zip(model.wv.index2word, model.wv.syn0))\n",
    "def get_weight_matrix(embedding, vocab):\n",
    "    # total vocabulary size plus 0 for unknown words\n",
    "    vocab_size = len(vocab) + 1\n",
    "    # define weight matrix dimensions with all 0\n",
    "    weight_matrix = np.zeros((vocab_size, 300))\n",
    "    # step vocab, store vectors using the Tokenizer's integer mapping\n",
    "    for word, i in vocab.items():\n",
    "        weight_matrix[i] = embedding.get(word)\n",
    "    return weight_matrix\n",
    "\n",
    "embedding_matrix = get_weight_matrix(w2v, word_index)"
   ]
  },
  {
   "cell_type": "markdown",
   "metadata": {},
   "source": [
    "# Checkpoint "
   ]
  },
  {
   "cell_type": "code",
   "execution_count": 15,
   "metadata": {},
   "outputs": [
    {
     "name": "stdout",
     "output_type": "stream",
     "text": [
      "shape of X_data_array: (10356, 36)\n"
     ]
    }
   ],
   "source": [
    "print(\"shape of X_data_array: {}\".format(x_train_data.shape))"
   ]
  },
  {
   "cell_type": "markdown",
   "metadata": {},
   "source": [
    "# Plot label distribution"
   ]
  },
  {
   "cell_type": "code",
   "execution_count": 16,
   "metadata": {},
   "outputs": [
    {
     "name": "stdout",
     "output_type": "stream",
     "text": [
      "[7326 1539 1491]\n",
      "['negative' 'neutral' 'positive']\n"
     ]
    },
    {
     "data": {
      "image/png": "[encoded data removed]",
      "text/plain": [
       "<Figure size 432x288 with 1 Axes>"
      ]
     },
     "metadata": {
      "needs_background": "light"
     },
     "output_type": "display_data"
    }
   ],
   "source": [
    "label_dist, label_dist_count = numpy.unique(unique_training_label, return_counts = True)\n",
    "label_dist = label_dist.astype(\"str\")\n",
    "\n",
    "print(label_dist_count)\n",
    "print(label_dist)\n",
    "\n",
    "import matplotlib.pyplot as plt\n",
    "fig = plt.figure()\n",
    "ax = fig.add_axes([0,0,1,1])\n",
    "ax.set_ylabel('Count')\n",
    "ax.set_title('Label distribution')\n",
    "ax.bar(label_dist,label_dist_count)\n",
    "plt.show()"
   ]
  },
  {
   "cell_type": "markdown",
   "metadata": {},
   "source": [
    "# Binarize labels and one hot encode"
   ]
  },
  {
   "cell_type": "code",
   "execution_count": 17,
   "metadata": {},
   "outputs": [],
   "source": [
    "from numpy import array\n",
    "from numpy import argmax\n",
    "from sklearn.preprocessing import LabelEncoder\n",
    "from sklearn.preprocessing import OneHotEncoder\n",
    "# define example\n",
    "data = unique_training_label\n",
    "values = array(data)\n",
    "# integer encode\n",
    "label_encoder = LabelEncoder()\n",
    "integer_encoded = label_encoder.fit_transform(values)\n",
    "#print(integer_encoded)\n",
    "# binary encode\n",
    "onehot_encoder = OneHotEncoder(sparse=False)\n",
    "integer_encoded = integer_encoded.reshape(len(integer_encoded), 1)\n",
    "onehot_encoded = onehot_encoder.fit_transform(integer_encoded)\n",
    "#print(onehot_encoded)\n",
    "Y_data_encoded = onehot_encoded"
   ]
  },
  {
   "cell_type": "markdown",
   "metadata": {},
   "source": [
    "# Step 5: Split data in train and test"
   ]
  },
  {
   "cell_type": "code",
   "execution_count": 18,
   "metadata": {},
   "outputs": [],
   "source": [
    "from sklearn.model_selection import train_test_split\n",
    "x_train, x_val, y_train, y_val = train_test_split(x_train_data, Y_data_encoded, test_size = 0.20, random_state = 1, stratify=Y_data_encoded)"
   ]
  },
  {
   "cell_type": "markdown",
   "metadata": {},
   "source": [
    "# Create the Embedding Layer"
   ]
  },
  {
   "cell_type": "code",
   "execution_count": 19,
   "metadata": {},
   "outputs": [],
   "source": [
    "embedding_dim = 300\n",
    "model_lstm = Sequential()\n",
    "#create a embedding layer using pre trained word2vec model\n",
    "model_lstm.add(Embedding(len(word_index) + 1,\n",
    "                         embedding_dim,\n",
    "                         weights=[embedding_matrix],\n",
    "                         input_length=max_text_length,\n",
    "                         trainable=False))\n",
    "model_lstm.add(Dropout(0.4))"
   ]
  },
  {
   "cell_type": "markdown",
   "metadata": {},
   "source": [
    "# Build model"
   ]
  },
  {
   "cell_type": "code",
   "execution_count": 20,
   "metadata": {},
   "outputs": [
    {
     "name": "stdout",
     "output_type": "stream",
     "text": [
      "Model: \"sequential\"\n",
      "_________________________________________________________________\n",
      "Layer (type)                 Output Shape              Param #   \n",
      "=================================================================\n",
      "embedding (Embedding)        (None, 36, 300)           4144500   \n",
      "_________________________________________________________________\n",
      "dropout (Dropout)            (None, 36, 300)           0         \n",
      "_________________________________________________________________\n",
      "bidirectional (Bidirectional (None, 600)               1442400   \n",
      "_________________________________________________________________\n",
      "dropout_1 (Dropout)          (None, 600)               0         \n",
      "_________________________________________________________________\n",
      "dense (Dense)                (None, 3)                 1803      \n",
      "=================================================================\n",
      "Total params: 5,588,703\n",
      "Trainable params: 1,444,203\n",
      "Non-trainable params: 4,144,500\n",
      "_________________________________________________________________\n"
     ]
    }
   ],
   "source": [
    "model_lstm.add(Bidirectional(LSTM(embedding_dim)))\n",
    "model_lstm.add(Dropout(0.4))\n",
    "model_lstm.add(Dense(3, activation=\"softmax\"))\n",
    "model_lstm.summary()"
   ]
  },
  {
   "cell_type": "markdown",
   "metadata": {},
   "source": [
    "# Train model"
   ]
  },
  {
   "cell_type": "code",
   "execution_count": 21,
   "metadata": {},
   "outputs": [
    {
     "name": "stdout",
     "output_type": "stream",
     "text": [
      "Epoch 1/5\n",
      "259/259 [==============================] - 79s 306ms/step - loss: 0.5916 - accuracy: 0.7704 - val_loss: 0.4088 - val_accuracy: 0.8615\n",
      "Epoch 2/5\n",
      "259/259 [==============================] - 76s 295ms/step - loss: 0.4110 - accuracy: 0.8537 - val_loss: 0.3719 - val_accuracy: 0.8687\n",
      "Epoch 3/5\n",
      "259/259 [==============================] - 76s 294ms/step - loss: 0.3846 - accuracy: 0.8634 - val_loss: 0.3591 - val_accuracy: 0.8721\n",
      "Epoch 4/5\n",
      "259/259 [==============================] - 79s 306ms/step - loss: 0.3748 - accuracy: 0.8637 - val_loss: 0.3568 - val_accuracy: 0.8731\n",
      "Epoch 5/5\n",
      "259/259 [==============================] - 81s 313ms/step - loss: 0.3670 - accuracy: 0.8638 - val_loss: 0.3423 - val_accuracy: 0.8803\n"
     ]
    }
   ],
   "source": [
    "from keras.optimizers import Adam\n",
    "model_lstm.compile(loss=\"categorical_crossentropy\", optimizer=Adam(lr=0.0001), metrics=['accuracy'])\n",
    "history_lstm = model_lstm.fit(x_train,y_train,batch_size = 32, epochs = 5, validation_data = (x_val, y_val))"
   ]
  },
  {
   "cell_type": "markdown",
   "metadata": {},
   "source": [
    "# Plot loss and accuracy"
   ]
  },
  {
   "cell_type": "code",
   "execution_count": 24,
   "metadata": {},
   "outputs": [
    {
     "data": {
      "image/png": "[encoded data removed]",
      "text/plain": [
       "<Figure size 432x288 with 1 Axes>"
      ]
     },
     "metadata": {
      "needs_background": "light"
     },
     "output_type": "display_data"
    }
   ],
   "source": [
    "import matplotlib.pyplot as plt\n",
    "plt.plot(history_lstm.history['loss'])\n",
    "plt.plot(history_lstm.history['val_loss'])\n",
    "plt.title('model loss')\n",
    "plt.ylabel('loss')\n",
    "plt.xlabel('epoch')\n",
    "plt.legend(['train', 'test'], loc='upper left')\n",
    "plt.show()"
   ]
  },
  {
   "cell_type": "code",
   "execution_count": 25,
   "metadata": {},
   "outputs": [
    {
     "data": {
      "image/png": "[encoded data removed]",
      "text/plain": [
       "<Figure size 432x288 with 1 Axes>"
      ]
     },
     "metadata": {
      "needs_background": "light"
     },
     "output_type": "display_data"
    }
   ],
   "source": [
    "plt.plot(history_lstm.history['accuracy'])\n",
    "plt.plot(history_lstm.history['val_accuracy'])\n",
    "plt.title('model accuracy')\n",
    "plt.ylabel('acc')\n",
    "plt.xlabel('epoch')\n",
    "plt.legend(['train', 'test'], loc='upper left')\n",
    "plt.show()"
   ]
  },
  {
   "cell_type": "markdown",
   "metadata": {},
   "source": [
    "# Confusion matrix"
   ]
  },
  {
   "cell_type": "code",
   "execution_count": 26,
   "metadata": {},
   "outputs": [
    {
     "name": "stdout",
     "output_type": "stream",
     "text": [
      "[[1397   47   22]\n",
      " [  93  197   18]\n",
      " [  44   24  230]]\n",
      "              precision    recall  f1-score   support\n",
      "\n",
      "           0       0.91      0.95      0.93      1466\n",
      "           1       0.74      0.64      0.68       308\n",
      "           2       0.85      0.77      0.81       298\n",
      "\n",
      "    accuracy                           0.88      2072\n",
      "   macro avg       0.83      0.79      0.81      2072\n",
      "weighted avg       0.88      0.88      0.88      2072\n",
      "\n",
      "\n",
      "0.8803088803088803\n"
     ]
    }
   ],
   "source": [
    "from sklearn.metrics import classification_report, confusion_matrix, accuracy_score\n",
    "\n",
    "y_pred = model_lstm.predict(x_val)\n",
    "\n",
    "conf_matrix = confusion_matrix(y_val.argmax(axis=1), y_pred.argmax(axis=1))\n",
    "print(conf_matrix)\n",
    "print(classification_report(y_val.argmax(axis=1), y_pred.argmax(axis=1)))\n",
    "print()\n",
    "print(accuracy_score(y_val.argmax(axis=1), y_pred.argmax(axis=1)))"
   ]
  },
  {
   "cell_type": "markdown",
   "metadata": {},
   "source": [
    "# Transformer model"
   ]
  },
  {
   "cell_type": "code",
   "execution_count": 27,
   "metadata": {},
   "outputs": [],
   "source": [
    "from tensorflow.keras import layers\n",
    "from tensorflow import keras\n",
    "from tensorflow.keras import layers"
   ]
  },
  {
   "cell_type": "markdown",
   "metadata": {},
   "source": [
    "# Multi Head Self Attention"
   ]
  },
  {
   "cell_type": "code",
   "execution_count": 28,
   "metadata": {},
   "outputs": [],
   "source": [
    "class MultiHeadSelfAttention(layers.Layer):\n",
    "    def __init__(self, embed_dim, num_heads=8):\n",
    "        super(MultiHeadSelfAttention, self).__init__()\n",
    "        self.embed_dim = embed_dim\n",
    "        self.num_heads = num_heads\n",
    "        if embed_dim % num_heads != 0:\n",
    "            raise ValueError(\n",
    "                f\"embedding dimension = {embed_dim} should be divisible by number of heads = {num_heads}\"\n",
    "            )\n",
    "        self.projection_dim = embed_dim // num_heads\n",
    "        self.query_dense = layers.Dense(embed_dim)\n",
    "        self.key_dense = layers.Dense(embed_dim)\n",
    "        self.value_dense = layers.Dense(embed_dim)\n",
    "        self.combine_heads = layers.Dense(embed_dim)\n",
    "\n",
    "    def attention(self, query, key, value):\n",
    "        score = tf.matmul(query, key, transpose_b=True)\n",
    "        dim_key = tf.cast(tf.shape(key)[-1], tf.float32)\n",
    "        scaled_score = score / tf.math.sqrt(dim_key)\n",
    "        weights = tf.nn.softmax(scaled_score, axis=-1)\n",
    "        output = tf.matmul(weights, value)\n",
    "        return output, weights\n",
    "\n",
    "    def separate_heads(self, x, batch_size):\n",
    "        x = tf.reshape(x, (batch_size, -1, self.num_heads, self.projection_dim))\n",
    "        return tf.transpose(x, perm=[0, 2, 1, 3])\n",
    "\n",
    "    def call(self, inputs):\n",
    "        # x.shape = [batch_size, seq_len, embedding_dim]\n",
    "        batch_size = tf.shape(inputs)[0]\n",
    "        query = self.query_dense(inputs)  # (batch_size, seq_len, embed_dim)\n",
    "        key = self.key_dense(inputs)  # (batch_size, seq_len, embed_dim)\n",
    "        value = self.value_dense(inputs)  # (batch_size, seq_len, embed_dim)\n",
    "        query = self.separate_heads(\n",
    "            query, batch_size\n",
    "        )  # (batch_size, num_heads, seq_len, projection_dim)\n",
    "        key = self.separate_heads(\n",
    "            key, batch_size\n",
    "        )  # (batch_size, num_heads, seq_len, projection_dim)\n",
    "        value = self.separate_heads(\n",
    "            value, batch_size\n",
    "        )  # (batch_size, num_heads, seq_len, projection_dim)\n",
    "        attention, weights = self.attention(query, key, value)\n",
    "        attention = tf.transpose(\n",
    "            attention, perm=[0, 2, 1, 3]\n",
    "        )  # (batch_size, seq_len, num_heads, projection_dim)\n",
    "        concat_attention = tf.reshape(\n",
    "            attention, (batch_size, -1, self.embed_dim)\n",
    "        )  # (batch_size, seq_len, embed_dim)\n",
    "        output = self.combine_heads(\n",
    "            concat_attention\n",
    "        )  # (batch_size, seq_len, embed_dim)\n",
    "        return output"
   ]
  },
  {
   "cell_type": "markdown",
   "metadata": {},
   "source": [
    "# Transformer block as a layer"
   ]
  },
  {
   "cell_type": "code",
   "execution_count": 29,
   "metadata": {},
   "outputs": [],
   "source": [
    "class TransformerBlock(layers.Layer):\n",
    "    def __init__(self, embed_dim, num_heads, ff_dim, rate=0.1):\n",
    "        super(TransformerBlock, self).__init__()\n",
    "        self.att = MultiHeadSelfAttention(embed_dim, num_heads)\n",
    "        self.ffn = keras.Sequential(\n",
    "            [layers.Dense(ff_dim, activation=\"relu\"), layers.Dense(embed_dim),]\n",
    "        )\n",
    "        self.layernorm1 = layers.LayerNormalization(epsilon=1e-6)\n",
    "        self.layernorm2 = layers.LayerNormalization(epsilon=1e-6)\n",
    "        self.dropout1 = layers.Dropout(rate)\n",
    "        self.dropout2 = layers.Dropout(rate)\n",
    "\n",
    "    def call(self, inputs, training):\n",
    "        attn_output = self.att(inputs)\n",
    "        attn_output = self.dropout1(attn_output, training=training)\n",
    "        out1 = self.layernorm1(inputs + attn_output)\n",
    "        ffn_output = self.ffn(out1)\n",
    "        ffn_output = self.dropout2(ffn_output, training=training)\n",
    "        return self.layernorm2(out1 + ffn_output)"
   ]
  },
  {
   "cell_type": "markdown",
   "metadata": {},
   "source": [
    "# Build transformer model"
   ]
  },
  {
   "cell_type": "code",
   "execution_count": 30,
   "metadata": {},
   "outputs": [
    {
     "name": "stdout",
     "output_type": "stream",
     "text": [
      "Model: \"sequential_1\"\n",
      "_________________________________________________________________\n",
      "Layer (type)                 Output Shape              Param #   \n",
      "=================================================================\n",
      "embedding_1 (Embedding)      (None, 36, 300)           4144500   \n",
      "_________________________________________________________________\n",
      "dropout_2 (Dropout)          (None, 36, 300)           0         \n",
      "_________________________________________________________________\n",
      "transformer_block (Transform (None, 36, 300)           401164    \n",
      "_________________________________________________________________\n",
      "global_max_pooling1d (Global (None, 300)               0         \n",
      "_________________________________________________________________\n",
      "dropout_5 (Dropout)          (None, 300)               0         \n",
      "_________________________________________________________________\n",
      "dense_7 (Dense)              (None, 100)               30100     \n",
      "_________________________________________________________________\n",
      "dropout_6 (Dropout)          (None, 100)               0         \n",
      "_________________________________________________________________\n",
      "dense_8 (Dense)              (None, 3)                 303       \n",
      "=================================================================\n",
      "Total params: 4,576,067\n",
      "Trainable params: 431,567\n",
      "Non-trainable params: 4,144,500\n",
      "_________________________________________________________________\n"
     ]
    }
   ],
   "source": [
    "num_heads = 4  # Number of attention heads\n",
    "ff_dim = 64  # Hidden layer size in feed forward network inside transformer\n",
    "\n",
    "model_transformer = Sequential()\n",
    "# map vocab index into embedding dimensions\n",
    "model_transformer.add(Embedding(len(word_index) + 1,\n",
    "                         embedding_dim,\n",
    "                         weights=[embedding_matrix],\n",
    "                         input_length=max_text_length,\n",
    "                         trainable=False))\n",
    "\n",
    "model_transformer.add(Dropout(0.2))\n",
    "model_transformer.add(TransformerBlock(300, num_heads, ff_dim))\n",
    "model_transformer.add(GlobalMaxPooling1D())\n",
    "model_transformer.add(Dropout(0.2))\n",
    "model_transformer.add(Dense(100, activation=\"relu\"))\n",
    "model_transformer.add(Dropout(0.2))\n",
    "model_transformer.add(Dense(3, activation=\"softmax\"))\n",
    "model_transformer.summary()"
   ]
  },
  {
   "cell_type": "markdown",
   "metadata": {},
   "source": [
    "# Train model"
   ]
  },
  {
   "cell_type": "code",
   "execution_count": 31,
   "metadata": {},
   "outputs": [
    {
     "name": "stdout",
     "output_type": "stream",
     "text": [
      "Epoch 1/5\n",
      "259/259 [==============================] - 28s 107ms/step - loss: 0.5474 - accuracy: 0.8032 - val_loss: 0.3440 - val_accuracy: 0.8745\n",
      "Epoch 2/5\n",
      "259/259 [==============================] - 27s 106ms/step - loss: 0.3845 - accuracy: 0.8640 - val_loss: 0.3515 - val_accuracy: 0.8784\n",
      "Epoch 3/5\n",
      "259/259 [==============================] - 39s 151ms/step - loss: 0.3724 - accuracy: 0.8697 - val_loss: 0.3369 - val_accuracy: 0.8774\n",
      "Epoch 4/5\n",
      "259/259 [==============================] - 39s 150ms/step - loss: 0.3495 - accuracy: 0.8763 - val_loss: 0.3359 - val_accuracy: 0.8793\n",
      "Epoch 5/5\n",
      "259/259 [==============================] - 39s 151ms/step - loss: 0.3413 - accuracy: 0.8817 - val_loss: 0.3209 - val_accuracy: 0.8861\n"
     ]
    }
   ],
   "source": [
    "from keras.optimizers import Adam\n",
    "model_transformer.compile(loss=\"categorical_crossentropy\", optimizer=Adam(lr=0.001), metrics=['accuracy'])\n",
    "history_transformer = model_transformer.fit(x_train,y_train,batch_size = 32, epochs = 5, validation_data = (x_val, y_val))"
   ]
  },
  {
   "cell_type": "markdown",
   "metadata": {},
   "source": [
    "# Plot loss and accuracy"
   ]
  },
  {
   "cell_type": "code",
   "execution_count": 32,
   "metadata": {},
   "outputs": [
    {
     "data": {
      "image/png": "[encoded data removed]",
      "text/plain": [
       "<Figure size 432x288 with 1 Axes>"
      ]
     },
     "metadata": {
      "needs_background": "light"
     },
     "output_type": "display_data"
    }
   ],
   "source": [
    "import matplotlib.pyplot as plt\n",
    "plt.plot(history_transformer.history['loss'])\n",
    "plt.plot(history_transformer.history['val_loss'])\n",
    "plt.title('model loss')\n",
    "plt.ylabel('loss')\n",
    "plt.xlabel('epoch')\n",
    "plt.legend(['train', 'test'], loc='upper left')\n",
    "plt.show()"
   ]
  },
  {
   "cell_type": "code",
   "execution_count": 33,
   "metadata": {},
   "outputs": [
    {
     "data": {
      "image/png": "[encoded data removed]",
      "text/plain": [
       "<Figure size 432x288 with 1 Axes>"
      ]
     },
     "metadata": {
      "needs_background": "light"
     },
     "output_type": "display_data"
    }
   ],
   "source": [
    "plt.plot(history_transformer.history['accuracy'])\n",
    "plt.plot(history_transformer.history['val_accuracy'])\n",
    "plt.title('model accuracy')\n",
    "plt.ylabel('acc')\n",
    "plt.xlabel('epoch')\n",
    "plt.legend(['train', 'test'], loc='upper left')\n",
    "plt.show()"
   ]
  },
  {
   "cell_type": "markdown",
   "metadata": {},
   "source": [
    "# Confusion matrix"
   ]
  },
  {
   "cell_type": "code",
   "execution_count": 34,
   "metadata": {},
   "outputs": [
    {
     "name": "stdout",
     "output_type": "stream",
     "text": [
      "[[1397   47   22]\n",
      " [  93  197   18]\n",
      " [  44   24  230]]\n",
      "              precision    recall  f1-score   support\n",
      "\n",
      "           0       0.91      0.95      0.93      1466\n",
      "           1       0.74      0.64      0.68       308\n",
      "           2       0.85      0.77      0.81       298\n",
      "\n",
      "    accuracy                           0.88      2072\n",
      "   macro avg       0.83      0.79      0.81      2072\n",
      "weighted avg       0.88      0.88      0.88      2072\n",
      "\n",
      "\n",
      "0.8803088803088803\n"
     ]
    }
   ],
   "source": [
    "from sklearn.metrics import classification_report, confusion_matrix, accuracy_score\n",
    "\n",
    "y_pred = model_lstm.predict(x_val)\n",
    "\n",
    "conf_matrix = confusion_matrix(y_val.argmax(axis=1), y_pred.argmax(axis=1))\n",
    "print(conf_matrix)\n",
    "print(classification_report(y_val.argmax(axis=1), y_pred.argmax(axis=1)))\n",
    "print()\n",
    "print(accuracy_score(y_val.argmax(axis=1), y_pred.argmax(axis=1)))"
   ]
  },
  {
   "cell_type": "code",
   "execution_count": null,
   "metadata": {},
   "outputs": [],
   "source": []
  }
 ],
 "metadata": {
  "kernelspec": {
   "display_name": "Python 3",
   "language": "python",
   "name": "python3"
  },
  "language_info": {
   "codemirror_mode": {
    "name": "ipython",
    "version": 3
   },
   "file_extension": ".py",
   "mimetype": "text/x-python",
   "name": "python",
   "nbconvert_exporter": "python",
   "pygments_lexer": "ipython3",
   "version": "3.6.10"
  }
 },
 "nbformat": 4,
 "nbformat_minor": 4
}
