{
 "cells": [
  {
   "cell_type": "markdown",
   "metadata": {},
   "source": []
  },
  {
   "cell_type": "code",
   "execution_count": 1,
   "metadata": {},
   "outputs": [
    {
     "name": "stdout",
     "output_type": "stream",
     "text": [
      "2.3.0\n"
     ]
    }
   ],
   "source": [
    "import numpy as np\n",
    "import pandas as pd\n",
    "import numpy\n",
    "import os, json, csv\n",
    "import tensorflow as tf\n",
    "from tensorflow.keras.preprocessing import text, sequence\n",
    "from tensorflow.keras.models import Sequential\n",
    "from tensorflow.keras.layers import Dense, Dropout, Activation, BatchNormalization, Reshape\n",
    "from tensorflow.keras.layers import Embedding\n",
    "from tensorflow.keras.layers import Conv1D, GlobalMaxPooling1D, MaxPooling1D, AveragePooling1D\n",
    "from tensorflow.keras.layers import LSTM, Bidirectional\n",
    "from sklearn.model_selection import train_test_split\n",
    "print(tf.__version__)"
   ]
  },
  {
   "cell_type": "markdown",
   "metadata": {},
   "source": [
    "# Step 1: Open Tweets.csv & Extract features and labels"
   ]
  },
  {
   "cell_type": "markdown",
   "metadata": {},
   "source": [
    "# Open CSV files"
   ]
  },
  {
   "cell_type": "code",
   "execution_count": 2,
   "metadata": {},
   "outputs": [],
   "source": [
    "import numpy as np\n",
    "import csv\n",
    "\n",
    "def TweetExtractor(csv_file):\n",
    "\n",
    "    tweets = []\n",
    "    labels = []\n",
    "    with open(csv_file, encoding='utf-8') as csv_file:\n",
    "        csv_reader = csv.reader(csv_file, delimiter=',')\n",
    "        try:\n",
    "            for index, row in enumerate(csv_reader):\n",
    "                if index > 0:\n",
    "                    sentiment = row[1]\n",
    "                    sentiment_conf = float(row[2])\n",
    "                    transcript = row[10]\n",
    "                    if sentiment_conf >= 0.80:\n",
    "                        tweets.append(transcript)\n",
    "                        labels.append(sentiment)\n",
    "                    else:\n",
    "                        (\"low conf\")\n",
    "                    \n",
    "                else:\n",
    "                    pass\n",
    "        except Exception as e:\n",
    "            print(\"Exception: {}\".format(e))\n",
    "        \n",
    "    tweets = np.array(tweets)\n",
    "    labels = np.array(labels)\n",
    "    \n",
    "    return tweets, labels\n",
    "\n",
    "tweets, labels = TweetExtractor(\"Tweets.csv\")"
   ]
  },
  {
   "cell_type": "markdown",
   "metadata": {},
   "source": [
    "# Plot label distribution"
   ]
  },
  {
   "cell_type": "code",
   "execution_count": 3,
   "metadata": {},
   "outputs": [
    {
     "name": "stdout",
     "output_type": "stream",
     "text": [
      "[7392 1550 1517]\n",
      "['negative' 'neutral' 'positive']\n"
     ]
    },
    {
     "data": {
      "image/png": "[encoded data removed]",
      "text/plain": [
       "<Figure size 432x288 with 1 Axes>"
      ]
     },
     "metadata": {
      "needs_background": "light"
     },
     "output_type": "display_data"
    }
   ],
   "source": [
    "import numpy\n",
    "label_dist, label_dist_count = numpy.unique(labels, return_counts = True)\n",
    "label_dist = label_dist.astype(\"str\")\n",
    "\n",
    "print(label_dist_count)\n",
    "print(label_dist)\n",
    "\n",
    "import matplotlib.pyplot as plt\n",
    "fig = plt.figure()\n",
    "ax = fig.add_axes([0,0,1,1])\n",
    "ax.set_ylabel('Count')\n",
    "ax.set_title('Label distribution')\n",
    "ax.bar(label_dist,label_dist_count)\n",
    "plt.show()"
   ]
  },
  {
   "cell_type": "markdown",
   "metadata": {},
   "source": [
    "# Step 2: Remove duplicates"
   ]
  },
  {
   "cell_type": "code",
   "execution_count": 4,
   "metadata": {},
   "outputs": [
    {
     "name": "stdout",
     "output_type": "stream",
     "text": [
      "The number of unique idx in X_data_array: 10356\n",
      "\n"
     ]
    }
   ],
   "source": [
    "__, index_list, counts = numpy.unique(tweets, return_index=True, return_counts = True, axis = 0)\n",
    "print(\"The number of unique idx in X_data_array: {}\\n\".format(len(index_list)))"
   ]
  },
  {
   "cell_type": "code",
   "execution_count": 5,
   "metadata": {},
   "outputs": [],
   "source": [
    "unique_training_data = []\n",
    "unique_training_label = []\n",
    "\n",
    "for index, (transcript, label) in enumerate(zip(tweets, labels)):\n",
    "    \n",
    "    # if index is in index_list\n",
    "    if index in index_list:\n",
    "        unique_training_data.append(transcript)\n",
    "        unique_training_label.append(label)\n",
    "        \n",
    "    else:\n",
    "        pass\n",
    "    \n",
    "unique_training_data = numpy.array(unique_training_data)\n",
    "unique_training_label = numpy.array(unique_training_label)"
   ]
  },
  {
   "cell_type": "markdown",
   "metadata": {},
   "source": [
    "# Step 3: Clean tweets\n",
    "- lowercase\n",
    "- remove punctuations\n",
    "- remove white spaces"
   ]
  },
  {
   "cell_type": "code",
   "execution_count": 6,
   "metadata": {},
   "outputs": [
    {
     "name": "stdout",
     "output_type": "stream",
     "text": [
      "training phrase example after data cleaning: \n",
      "virginamerica its really aggressive to blast obnoxious entertainment in your guests faces amp they have little recourse\n"
     ]
    }
   ],
   "source": [
    "import string\n",
    "import re \n",
    "\n",
    "def processor(X_data_array):\n",
    "    clean_data_array = []\n",
    "    for sentence in X_data_array:\n",
    "        # Lowercase\n",
    "        sentence = sentence.lower()\n",
    "        \n",
    "        # Remove punctuations\n",
    "        sentence = sentence.translate(str.maketrans('', '', string.punctuation))\n",
    "        \n",
    "        # Remove white spaces\n",
    "        sentence = re.sub(' +', ' ',sentence).strip()\n",
    "        \n",
    "        # Append cleaned sentences\n",
    "        clean_data_array.append(sentence)\n",
    "\n",
    "    clean_data_array = numpy.array(clean_data_array)\n",
    "    return clean_data_array\n",
    "\n",
    "\n",
    "unique_training_data = processor(unique_training_data)\n",
    "\n",
    "print(\"training phrase example after data cleaning: \\n{}\".format(unique_training_data[1]))"
   ]
  },
  {
   "cell_type": "markdown",
   "metadata": {},
   "source": [
    "# Step 4: Tokenizer and pad text data to sequence"
   ]
  },
  {
   "cell_type": "code",
   "execution_count": 7,
   "metadata": {},
   "outputs": [
    {
     "name": "stdout",
     "output_type": "stream",
     "text": [
      "len of total features: 13886\n",
      "max sentence len: 36\n"
     ]
    }
   ],
   "source": [
    "word_dict = {}\n",
    "for sentence in unique_training_data:\n",
    "    for word in sentence.split(\" \"):\n",
    "        if word not in word_dict:\n",
    "            word_dict[word] = True\n",
    "\n",
    "max_sentence_length = 0\n",
    "for sentence in unique_training_data:\n",
    "    sentence = sentence.split(\" \")\n",
    "    sentence_len = len(sentence)\n",
    "    if sentence_len > max_sentence_length:\n",
    "        max_sentence_length = sentence_len\n",
    "\n",
    "print(\"len of total features: {}\".format(len(word_dict)))\n",
    "print(\"max sentence len: {}\".format(max_sentence_length))"
   ]
  },
  {
   "cell_type": "markdown",
   "metadata": {},
   "source": [
    "# Tokenization"
   ]
  },
  {
   "cell_type": "code",
   "execution_count": 8,
   "metadata": {},
   "outputs": [],
   "source": [
    "from keras.preprocessing.text import text_to_word_sequence\n",
    "tokenized_data = []\n",
    "for sentence in unique_training_data:\n",
    "    tokens = text_to_word_sequence(sentence)\n",
    "    tokenized_data.append(tokens)"
   ]
  },
  {
   "cell_type": "markdown",
   "metadata": {},
   "source": [
    "# pad text data to sequence"
   ]
  },
  {
   "cell_type": "code",
   "execution_count": 9,
   "metadata": {},
   "outputs": [],
   "source": [
    "vocab_size = len(word_dict)\n",
    "max_text_length = max_sentence_length\n",
    "x_tokenizer = text.Tokenizer(num_words=vocab_size)\n",
    "x_tokenizer.fit_on_texts(tokenized_data)\n",
    "x_tokenized = x_tokenizer.texts_to_sequences(tokenized_data)\n",
    "x_train_data = sequence.pad_sequences(x_tokenized, maxlen=max_text_length)"
   ]
  },
  {
   "cell_type": "markdown",
   "metadata": {},
   "source": [
    "# Checkpoint "
   ]
  },
  {
   "cell_type": "code",
   "execution_count": 10,
   "metadata": {},
   "outputs": [
    {
     "name": "stdout",
     "output_type": "stream",
     "text": [
      "shape of X_data_array: (10356, 36)\n"
     ]
    }
   ],
   "source": [
    "print(\"shape of X_data_array: {}\".format(x_train_data.shape))"
   ]
  },
  {
   "cell_type": "markdown",
   "metadata": {},
   "source": [
    "# Plot label distribution"
   ]
  },
  {
   "cell_type": "code",
   "execution_count": 11,
   "metadata": {},
   "outputs": [
    {
     "name": "stdout",
     "output_type": "stream",
     "text": [
      "[7326 1539 1491]\n",
      "['negative' 'neutral' 'positive']\n"
     ]
    },
    {
     "data": {
      "image/png": "[encoded data removed]",
      "text/plain": [
       "<Figure size 432x288 with 1 Axes>"
      ]
     },
     "metadata": {
      "needs_background": "light"
     },
     "output_type": "display_data"
    }
   ],
   "source": [
    "label_dist, label_dist_count = numpy.unique(unique_training_label, return_counts = True)\n",
    "label_dist = label_dist.astype(\"str\")\n",
    "\n",
    "print(label_dist_count)\n",
    "print(label_dist)\n",
    "\n",
    "import matplotlib.pyplot as plt\n",
    "fig = plt.figure()\n",
    "ax = fig.add_axes([0,0,1,1])\n",
    "ax.set_ylabel('Count')\n",
    "ax.set_title('Label distribution')\n",
    "ax.bar(label_dist,label_dist_count)\n",
    "plt.show()"
   ]
  },
  {
   "cell_type": "markdown",
   "metadata": {},
   "source": [
    "# Binarize labels and one hot encode"
   ]
  },
  {
   "cell_type": "code",
   "execution_count": 12,
   "metadata": {},
   "outputs": [],
   "source": [
    "from numpy import array\n",
    "from numpy import argmax\n",
    "from sklearn.preprocessing import LabelEncoder\n",
    "from sklearn.preprocessing import OneHotEncoder\n",
    "# define example\n",
    "data = unique_training_label\n",
    "values = array(data)\n",
    "# integer encode\n",
    "label_encoder = LabelEncoder()\n",
    "integer_encoded = label_encoder.fit_transform(values)\n",
    "#print(integer_encoded)\n",
    "# binary encode\n",
    "onehot_encoder = OneHotEncoder(sparse=False)\n",
    "integer_encoded = integer_encoded.reshape(len(integer_encoded), 1)\n",
    "onehot_encoded = onehot_encoder.fit_transform(integer_encoded)\n",
    "#print(onehot_encoded)\n",
    "Y_data_encoded = onehot_encoded"
   ]
  },
  {
   "cell_type": "markdown",
   "metadata": {},
   "source": [
    "# Step 5: Split data in train and test"
   ]
  },
  {
   "cell_type": "code",
   "execution_count": 13,
   "metadata": {},
   "outputs": [],
   "source": [
    "from sklearn.model_selection import train_test_split\n",
    "x_train, x_val, y_train, y_val = train_test_split(x_train_data, Y_data_encoded, test_size = 0.20, random_state = 1, stratify=Y_data_encoded)"
   ]
  },
  {
   "cell_type": "markdown",
   "metadata": {},
   "source": [
    "# Create the Embedding Layer"
   ]
  },
  {
   "cell_type": "code",
   "execution_count": 14,
   "metadata": {},
   "outputs": [],
   "source": [
    "embedding_dim = 300\n",
    "model_lstm = Sequential()\n",
    "#create a embedding layer using pre trained glove model\n",
    "model_lstm.add(Embedding(vocab_size, embedding_dim, input_length=max_text_length))\n",
    "model_lstm.add(Dropout(0.4))"
   ]
  },
  {
   "cell_type": "markdown",
   "metadata": {},
   "source": [
    "# Build model"
   ]
  },
  {
   "cell_type": "code",
   "execution_count": 15,
   "metadata": {},
   "outputs": [
    {
     "name": "stdout",
     "output_type": "stream",
     "text": [
      "Model: \"sequential\"\n",
      "_________________________________________________________________\n",
      "Layer (type)                 Output Shape              Param #   \n",
      "=================================================================\n",
      "embedding (Embedding)        (None, 36, 300)           4165800   \n",
      "_________________________________________________________________\n",
      "dropout (Dropout)            (None, 36, 300)           0         \n",
      "_________________________________________________________________\n",
      "bidirectional (Bidirectional (None, 600)               1442400   \n",
      "_________________________________________________________________\n",
      "dropout_1 (Dropout)          (None, 600)               0         \n",
      "_________________________________________________________________\n",
      "dense (Dense)                (None, 3)                 1803      \n",
      "=================================================================\n",
      "Total params: 5,610,003\n",
      "Trainable params: 5,610,003\n",
      "Non-trainable params: 0\n",
      "_________________________________________________________________\n"
     ]
    }
   ],
   "source": [
    "model_lstm.add(Bidirectional(LSTM(embedding_dim)))\n",
    "model_lstm.add(Dropout(0.4))\n",
    "model_lstm.add(Dense(3, activation=\"softmax\"))\n",
    "model_lstm.summary()"
   ]
  },
  {
   "cell_type": "markdown",
   "metadata": {},
   "source": [
    "# Train model"
   ]
  },
  {
   "cell_type": "code",
   "execution_count": 16,
   "metadata": {},
   "outputs": [
    {
     "name": "stdout",
     "output_type": "stream",
     "text": [
      "Epoch 1/20\n",
      "259/259 [==============================] - 24s 94ms/step - loss: 0.7421 - accuracy: 0.7138 - val_loss: 0.6399 - val_accuracy: 0.7249\n",
      "Epoch 2/20\n",
      "259/259 [==============================] - 19s 75ms/step - loss: 0.5428 - accuracy: 0.7725 - val_loss: 0.4882 - val_accuracy: 0.7958\n",
      "Epoch 3/20\n",
      "259/259 [==============================] - 12s 45ms/step - loss: 0.4220 - accuracy: 0.8273 - val_loss: 0.4731 - val_accuracy: 0.8123\n",
      "Epoch 4/20\n",
      "259/259 [==============================] - 12s 45ms/step - loss: 0.3619 - accuracy: 0.8608 - val_loss: 0.4297 - val_accuracy: 0.8383\n",
      "Epoch 5/20\n",
      "259/259 [==============================] - 12s 45ms/step - loss: 0.3058 - accuracy: 0.8859 - val_loss: 0.4088 - val_accuracy: 0.8494\n",
      "Epoch 6/20\n",
      "259/259 [==============================] - 12s 45ms/step - loss: 0.2472 - accuracy: 0.9188 - val_loss: 0.4058 - val_accuracy: 0.8596\n",
      "Epoch 7/20\n",
      "259/259 [==============================] - 12s 45ms/step - loss: 0.2107 - accuracy: 0.9307 - val_loss: 0.4032 - val_accuracy: 0.8470\n",
      "Epoch 8/20\n",
      "259/259 [==============================] - 12s 45ms/step - loss: 0.1683 - accuracy: 0.9460 - val_loss: 0.4118 - val_accuracy: 0.8668\n",
      "Epoch 9/20\n",
      "259/259 [==============================] - 12s 45ms/step - loss: 0.1433 - accuracy: 0.9558 - val_loss: 0.4435 - val_accuracy: 0.8581\n",
      "Epoch 10/20\n",
      "259/259 [==============================] - 12s 45ms/step - loss: 0.1232 - accuracy: 0.9614 - val_loss: 0.4655 - val_accuracy: 0.8600\n",
      "Epoch 11/20\n",
      "259/259 [==============================] - 12s 45ms/step - loss: 0.1055 - accuracy: 0.9660 - val_loss: 0.4646 - val_accuracy: 0.8634\n",
      "Epoch 12/20\n",
      "259/259 [==============================] - 12s 45ms/step - loss: 0.0869 - accuracy: 0.9751 - val_loss: 0.5158 - val_accuracy: 0.8528\n",
      "Epoch 13/20\n",
      "259/259 [==============================] - 12s 45ms/step - loss: 0.0785 - accuracy: 0.9778 - val_loss: 0.4978 - val_accuracy: 0.8600\n",
      "Epoch 14/20\n",
      "259/259 [==============================] - 12s 45ms/step - loss: 0.0715 - accuracy: 0.9780 - val_loss: 0.5232 - val_accuracy: 0.8562\n",
      "Epoch 15/20\n",
      "259/259 [==============================] - 12s 45ms/step - loss: 0.0595 - accuracy: 0.9832 - val_loss: 0.5577 - val_accuracy: 0.8634\n",
      "Epoch 16/20\n",
      "259/259 [==============================] - 12s 45ms/step - loss: 0.0531 - accuracy: 0.9841 - val_loss: 0.5875 - val_accuracy: 0.8581\n",
      "Epoch 17/20\n",
      "259/259 [==============================] - 12s 45ms/step - loss: 0.0453 - accuracy: 0.9876 - val_loss: 0.6564 - val_accuracy: 0.8533\n",
      "Epoch 18/20\n",
      "259/259 [==============================] - 12s 45ms/step - loss: 0.0603 - accuracy: 0.9832 - val_loss: 0.6679 - val_accuracy: 0.8596\n",
      "Epoch 19/20\n",
      "259/259 [==============================] - 12s 45ms/step - loss: 0.0387 - accuracy: 0.9887 - val_loss: 0.6095 - val_accuracy: 0.8485\n",
      "Epoch 20/20\n",
      "259/259 [==============================] - 12s 45ms/step - loss: 0.0369 - accuracy: 0.9894 - val_loss: 0.6028 - val_accuracy: 0.8451\n"
     ]
    }
   ],
   "source": [
    "from keras.optimizers import Adam\n",
    "model_lstm.compile(loss=\"categorical_crossentropy\", optimizer=Adam(lr=0.0001), metrics=['accuracy'])\n",
    "history_lstm = model_lstm.fit(x_train,y_train,batch_size = 32, epochs = 20, validation_data = (x_val, y_val))"
   ]
  },
  {
   "cell_type": "markdown",
   "metadata": {},
   "source": [
    "# Plot loss and accuracy"
   ]
  },
  {
   "cell_type": "code",
   "execution_count": 17,
   "metadata": {},
   "outputs": [
    {
     "data": {
      "image/png": "[encoded data removed]",
      "text/plain": [
       "<Figure size 432x288 with 1 Axes>"
      ]
     },
     "metadata": {
      "needs_background": "light"
     },
     "output_type": "display_data"
    }
   ],
   "source": [
    "import matplotlib.pyplot as plt\n",
    "plt.plot(history_lstm.history['loss'])\n",
    "plt.plot(history_lstm.history['val_loss'])\n",
    "plt.title('model loss')\n",
    "plt.ylabel('loss')\n",
    "plt.xlabel('epoch')\n",
    "plt.legend(['train', 'test'], loc='upper left')\n",
    "plt.show()"
   ]
  },
  {
   "cell_type": "code",
   "execution_count": 18,
   "metadata": {},
   "outputs": [
    {
     "data": {
      "image/png": "[encoded data removed]",
      "text/plain": [
       "<Figure size 432x288 with 1 Axes>"
      ]
     },
     "metadata": {
      "needs_background": "light"
     },
     "output_type": "display_data"
    }
   ],
   "source": [
    "plt.plot(history_lstm.history['accuracy'])\n",
    "plt.plot(history_lstm.history['val_accuracy'])\n",
    "plt.title('model accuracy')\n",
    "plt.ylabel('acc')\n",
    "plt.xlabel('epoch')\n",
    "plt.legend(['train', 'test'], loc='upper left')\n",
    "plt.show()"
   ]
  },
  {
   "cell_type": "markdown",
   "metadata": {},
   "source": [
    "# Confusion matrix"
   ]
  },
  {
   "cell_type": "code",
   "execution_count": 19,
   "metadata": {},
   "outputs": [
    {
     "name": "stdout",
     "output_type": "stream",
     "text": [
      "[[1317  131   18]\n",
      " [  79  213   16]\n",
      " [  41   36  221]]\n",
      "              precision    recall  f1-score   support\n",
      "\n",
      "           0       0.92      0.90      0.91      1466\n",
      "           1       0.56      0.69      0.62       308\n",
      "           2       0.87      0.74      0.80       298\n",
      "\n",
      "    accuracy                           0.85      2072\n",
      "   macro avg       0.78      0.78      0.78      2072\n",
      "weighted avg       0.86      0.85      0.85      2072\n",
      "\n",
      "\n",
      "0.8450772200772201\n"
     ]
    }
   ],
   "source": [
    "from sklearn.metrics import classification_report, confusion_matrix, accuracy_score\n",
    "\n",
    "y_pred = model_lstm.predict(x_val)\n",
    "\n",
    "conf_matrix = confusion_matrix(y_val.argmax(axis=1), y_pred.argmax(axis=1))\n",
    "print(conf_matrix)\n",
    "print(classification_report(y_val.argmax(axis=1), y_pred.argmax(axis=1)))\n",
    "print()\n",
    "print(accuracy_score(y_val.argmax(axis=1), y_pred.argmax(axis=1)))"
   ]
  },
  {
   "cell_type": "markdown",
   "metadata": {},
   "source": [
    "# Transformer model"
   ]
  },
  {
   "cell_type": "code",
   "execution_count": 20,
   "metadata": {},
   "outputs": [],
   "source": [
    "from tensorflow.keras import layers\n",
    "from tensorflow import keras\n",
    "from tensorflow.keras import layers"
   ]
  },
  {
   "cell_type": "markdown",
   "metadata": {},
   "source": [
    "# Multi Head Self Attention"
   ]
  },
  {
   "cell_type": "code",
   "execution_count": 21,
   "metadata": {},
   "outputs": [],
   "source": [
    "class MultiHeadSelfAttention(layers.Layer):\n",
    "    def __init__(self, embed_dim, num_heads=8):\n",
    "        super(MultiHeadSelfAttention, self).__init__()\n",
    "        self.embed_dim = embed_dim\n",
    "        self.num_heads = num_heads\n",
    "        if embed_dim % num_heads != 0:\n",
    "            raise ValueError(\n",
    "                f\"embedding dimension = {embed_dim} should be divisible by number of heads = {num_heads}\"\n",
    "            )\n",
    "        self.projection_dim = embed_dim // num_heads\n",
    "        self.query_dense = layers.Dense(embed_dim)\n",
    "        self.key_dense = layers.Dense(embed_dim)\n",
    "        self.value_dense = layers.Dense(embed_dim)\n",
    "        self.combine_heads = layers.Dense(embed_dim)\n",
    "\n",
    "    def attention(self, query, key, value):\n",
    "        score = tf.matmul(query, key, transpose_b=True)\n",
    "        dim_key = tf.cast(tf.shape(key)[-1], tf.float32)\n",
    "        scaled_score = score / tf.math.sqrt(dim_key)\n",
    "        weights = tf.nn.softmax(scaled_score, axis=-1)\n",
    "        output = tf.matmul(weights, value)\n",
    "        return output, weights\n",
    "\n",
    "    def separate_heads(self, x, batch_size):\n",
    "        x = tf.reshape(x, (batch_size, -1, self.num_heads, self.projection_dim))\n",
    "        return tf.transpose(x, perm=[0, 2, 1, 3])\n",
    "\n",
    "    def call(self, inputs):\n",
    "        # x.shape = [batch_size, seq_len, embedding_dim]\n",
    "        batch_size = tf.shape(inputs)[0]\n",
    "        query = self.query_dense(inputs)  # (batch_size, seq_len, embed_dim)\n",
    "        key = self.key_dense(inputs)  # (batch_size, seq_len, embed_dim)\n",
    "        value = self.value_dense(inputs)  # (batch_size, seq_len, embed_dim)\n",
    "        query = self.separate_heads(\n",
    "            query, batch_size\n",
    "        )  # (batch_size, num_heads, seq_len, projection_dim)\n",
    "        key = self.separate_heads(\n",
    "            key, batch_size\n",
    "        )  # (batch_size, num_heads, seq_len, projection_dim)\n",
    "        value = self.separate_heads(\n",
    "            value, batch_size\n",
    "        )  # (batch_size, num_heads, seq_len, projection_dim)\n",
    "        attention, weights = self.attention(query, key, value)\n",
    "        attention = tf.transpose(\n",
    "            attention, perm=[0, 2, 1, 3]\n",
    "        )  # (batch_size, seq_len, num_heads, projection_dim)\n",
    "        concat_attention = tf.reshape(\n",
    "            attention, (batch_size, -1, self.embed_dim)\n",
    "        )  # (batch_size, seq_len, embed_dim)\n",
    "        output = self.combine_heads(\n",
    "            concat_attention\n",
    "        )  # (batch_size, seq_len, embed_dim)\n",
    "        return output"
   ]
  },
  {
   "cell_type": "markdown",
   "metadata": {},
   "source": [
    "# Transformer block as a layer"
   ]
  },
  {
   "cell_type": "code",
   "execution_count": 33,
   "metadata": {},
   "outputs": [],
   "source": [
    "class TransformerBlock(layers.Layer):\n",
    "    def __init__(self, embed_dim, num_heads, ff_dim, rate=0.1):\n",
    "        super(TransformerBlock, self).__init__()\n",
    "        self.att = MultiHeadSelfAttention(embed_dim, num_heads)\n",
    "        self.ffn = keras.Sequential(\n",
    "            [layers.Dense(ff_dim, activation=\"relu\"), layers.Dense(embed_dim),]\n",
    "        )\n",
    "        self.layernorm1 = layers.LayerNormalization(epsilon=1e-6)\n",
    "        self.layernorm2 = layers.LayerNormalization(epsilon=1e-6)\n",
    "        self.dropout1 = layers.Dropout(rate)\n",
    "        self.dropout2 = layers.Dropout(rate)\n",
    "\n",
    "    def call(self, inputs, training):\n",
    "        attn_output = self.att(inputs)\n",
    "        attn_output = self.dropout1(attn_output, training=training)\n",
    "        out1 = self.layernorm1(inputs + attn_output)\n",
    "        ffn_output = self.ffn(out1)\n",
    "        ffn_output = self.dropout2(ffn_output, training=training)\n",
    "        return self.layernorm2(out1 + ffn_output)"
   ]
  },
  {
   "cell_type": "markdown",
   "metadata": {},
   "source": [
    "# Build transformer model"
   ]
  },
  {
   "cell_type": "code",
   "execution_count": 34,
   "metadata": {},
   "outputs": [
    {
     "name": "stdout",
     "output_type": "stream",
     "text": [
      "Model: \"sequential_5\"\n",
      "_________________________________________________________________\n",
      "Layer (type)                 Output Shape              Param #   \n",
      "=================================================================\n",
      "embedding_3 (Embedding)      (None, 36, 300)           4165800   \n",
      "_________________________________________________________________\n",
      "dropout_12 (Dropout)         (None, 36, 300)           0         \n",
      "_________________________________________________________________\n",
      "transformer_block_2 (Transfo (None, 36, 300)           401164    \n",
      "_________________________________________________________________\n",
      "global_max_pooling1d_2 (Glob (None, 300)               0         \n",
      "_________________________________________________________________\n",
      "dropout_15 (Dropout)         (None, 300)               0         \n",
      "_________________________________________________________________\n",
      "dense_23 (Dense)             (None, 100)               30100     \n",
      "_________________________________________________________________\n",
      "dropout_16 (Dropout)         (None, 100)               0         \n",
      "_________________________________________________________________\n",
      "dense_24 (Dense)             (None, 3)                 303       \n",
      "=================================================================\n",
      "Total params: 4,597,367\n",
      "Trainable params: 4,597,367\n",
      "Non-trainable params: 0\n",
      "_________________________________________________________________\n"
     ]
    }
   ],
   "source": [
    "num_heads = 4  # Number of attention heads\n",
    "ff_dim = 64  # Hidden layer size in feed forward network inside transformer\n",
    "\n",
    "model_transformer = Sequential()\n",
    "# map vocab index into embedding dimensions\n",
    "model_transformer.add(Embedding(vocab_size, embedding_dim, input_length=max_text_length))\n",
    "\n",
    "model_transformer.add(Dropout(0.2))\n",
    "model_transformer.add(TransformerBlock(300, num_heads, ff_dim))\n",
    "model_transformer.add(GlobalMaxPooling1D())\n",
    "model_transformer.add(Dropout(0.2))\n",
    "model_transformer.add(Dense(100, activation=\"relu\"))\n",
    "model_transformer.add(Dropout(0.2))\n",
    "model_transformer.add(Dense(3, activation=\"softmax\"))\n",
    "model_transformer.summary()"
   ]
  },
  {
   "cell_type": "markdown",
   "metadata": {},
   "source": [
    "# Train model"
   ]
  },
  {
   "cell_type": "code",
   "execution_count": 35,
   "metadata": {},
   "outputs": [
    {
     "name": "stdout",
     "output_type": "stream",
     "text": [
      "Epoch 1/6\n",
      "259/259 [==============================] - 12s 46ms/step - loss: 0.9252 - accuracy: 0.6743 - val_loss: 0.6672 - val_accuracy: 0.7321\n",
      "Epoch 2/6\n",
      "259/259 [==============================] - 12s 45ms/step - loss: 0.6803 - accuracy: 0.7280 - val_loss: 0.5427 - val_accuracy: 0.7799\n",
      "Epoch 3/6\n",
      "259/259 [==============================] - 12s 45ms/step - loss: 0.5752 - accuracy: 0.7683 - val_loss: 0.4153 - val_accuracy: 0.8470\n",
      "Epoch 4/6\n",
      "259/259 [==============================] - 12s 45ms/step - loss: 0.4463 - accuracy: 0.8262 - val_loss: 0.3630 - val_accuracy: 0.8634\n",
      "Epoch 5/6\n",
      "259/259 [==============================] - 12s 45ms/step - loss: 0.3436 - accuracy: 0.8740 - val_loss: 0.3386 - val_accuracy: 0.8808\n",
      "Epoch 6/6\n",
      "259/259 [==============================] - 12s 45ms/step - loss: 0.2653 - accuracy: 0.9029 - val_loss: 0.3359 - val_accuracy: 0.8832\n"
     ]
    }
   ],
   "source": [
    "from keras.optimizers import Adam\n",
    "model_transformer.compile(loss=\"categorical_crossentropy\", optimizer=Adam(lr=0.0001), metrics=['accuracy'])\n",
    "history_transformer = model_transformer.fit(x_train,y_train,batch_size = 32, epochs = 6, validation_data = (x_val, y_val))"
   ]
  },
  {
   "cell_type": "markdown",
   "metadata": {},
   "source": [
    "# Plot loss and accuracy"
   ]
  },
  {
   "cell_type": "code",
   "execution_count": 36,
   "metadata": {},
   "outputs": [
    {
     "data": {
      "image/png": "[encoded data removed]",
      "text/plain": [
       "<Figure size 432x288 with 1 Axes>"
      ]
     },
     "metadata": {
      "needs_background": "light"
     },
     "output_type": "display_data"
    }
   ],
   "source": [
    "import matplotlib.pyplot as plt\n",
    "plt.plot(history_transformer.history['loss'])\n",
    "plt.plot(history_transformer.history['val_loss'])\n",
    "plt.title('model loss')\n",
    "plt.ylabel('loss')\n",
    "plt.xlabel('epoch')\n",
    "plt.legend(['train', 'test'], loc='upper left')\n",
    "plt.show()"
   ]
  },
  {
   "cell_type": "code",
   "execution_count": 37,
   "metadata": {},
   "outputs": [
    {
     "data": {
      "image/png": "[encoded data removed]",
      "text/plain": [
       "<Figure size 432x288 with 1 Axes>"
      ]
     },
     "metadata": {
      "needs_background": "light"
     },
     "output_type": "display_data"
    }
   ],
   "source": [
    "plt.plot(history_transformer.history['accuracy'])\n",
    "plt.plot(history_transformer.history['val_accuracy'])\n",
    "plt.title('model accuracy')\n",
    "plt.ylabel('acc')\n",
    "plt.xlabel('epoch')\n",
    "plt.legend(['train', 'test'], loc='upper left')\n",
    "plt.show()"
   ]
  },
  {
   "cell_type": "markdown",
   "metadata": {},
   "source": [
    "# Confusion matrix"
   ]
  },
  {
   "cell_type": "code",
   "execution_count": 38,
   "metadata": {},
   "outputs": [
    {
     "name": "stdout",
     "output_type": "stream",
     "text": [
      "[[1317  131   18]\n",
      " [  79  213   16]\n",
      " [  41   36  221]]\n",
      "              precision    recall  f1-score   support\n",
      "\n",
      "           0       0.92      0.90      0.91      1466\n",
      "           1       0.56      0.69      0.62       308\n",
      "           2       0.87      0.74      0.80       298\n",
      "\n",
      "    accuracy                           0.85      2072\n",
      "   macro avg       0.78      0.78      0.78      2072\n",
      "weighted avg       0.86      0.85      0.85      2072\n",
      "\n",
      "\n",
      "0.8450772200772201\n"
     ]
    }
   ],
   "source": [
    "from sklearn.metrics import classification_report, confusion_matrix, accuracy_score\n",
    "\n",
    "y_pred = model_lstm.predict(x_val)\n",
    "\n",
    "conf_matrix = confusion_matrix(y_val.argmax(axis=1), y_pred.argmax(axis=1))\n",
    "print(conf_matrix)\n",
    "print(classification_report(y_val.argmax(axis=1), y_pred.argmax(axis=1)))\n",
    "print()\n",
    "print(accuracy_score(y_val.argmax(axis=1), y_pred.argmax(axis=1)))"
   ]
  },
  {
   "cell_type": "code",
   "execution_count": null,
   "metadata": {},
   "outputs": [],
   "source": []
  }
 ],
 "metadata": {
  "kernelspec": {
   "display_name": "Python 3",
   "language": "python",
   "name": "python3"
  },
  "language_info": {
   "codemirror_mode": {
    "name": "ipython",
    "version": 3
   },
   "file_extension": ".py",
   "mimetype": "text/x-python",
   "name": "python",
   "nbconvert_exporter": "python",
   "pygments_lexer": "ipython3",
   "version": "3.7.7"
  }
 },
 "nbformat": 4,
 "nbformat_minor": 4
}
