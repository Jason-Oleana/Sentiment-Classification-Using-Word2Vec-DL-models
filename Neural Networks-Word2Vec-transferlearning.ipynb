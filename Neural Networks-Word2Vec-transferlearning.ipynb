{
 "cells": [
  {
   "cell_type": "markdown",
   "metadata": {},
   "source": []
  },
  {
   "cell_type": "code",
   "execution_count": 1,
   "metadata": {},
   "outputs": [
    {
     "name": "stdout",
     "output_type": "stream",
     "text": [
      "2.3.0\n"
     ]
    }
   ],
   "source": [
    "import numpy as np\n",
    "import pandas as pd\n",
    "import numpy\n",
    "import os, json, csv\n",
    "import tensorflow as tf\n",
    "from tensorflow.keras.preprocessing import text, sequence\n",
    "from tensorflow.keras.models import Sequential\n",
    "from tensorflow.keras.layers import Dense, Dropout, Activation, BatchNormalization, Reshape\n",
    "from tensorflow.keras.layers import Embedding\n",
    "from tensorflow.keras.layers import Conv1D, GlobalMaxPooling1D, MaxPooling1D, AveragePooling1D\n",
    "from tensorflow.keras.layers import LSTM, Bidirectional\n",
    "from sklearn.model_selection import train_test_split\n",
    "print(tf.__version__)"
   ]
  },
  {
   "cell_type": "markdown",
   "metadata": {},
   "source": [
    "# Step 1: Open Tweets.csv & Extract features and labels"
   ]
  },
  {
   "cell_type": "markdown",
   "metadata": {},
   "source": [
    "# Open CSV files"
   ]
  },
  {
   "cell_type": "code",
   "execution_count": 2,
   "metadata": {},
   "outputs": [],
   "source": [
    "import numpy as np\n",
    "import csv\n",
    "\n",
    "def TweetExtractor(csv_file):\n",
    "\n",
    "    tweets = []\n",
    "    labels = []\n",
    "    with open(csv_file, encoding='utf-8') as csv_file:\n",
    "        csv_reader = csv.reader(csv_file, delimiter=',')\n",
    "        try:\n",
    "            for index, row in enumerate(csv_reader):\n",
    "                if index > 0:\n",
    "                    sentiment = row[1]\n",
    "                    sentiment_conf = float(row[2])\n",
    "                    transcript = row[10]\n",
    "                    if sentiment_conf >= 0.80:\n",
    "                        tweets.append(transcript)\n",
    "                        labels.append(sentiment)\n",
    "                    else:\n",
    "                        (\"low conf\")\n",
    "                    \n",
    "                else:\n",
    "                    pass\n",
    "        except Exception as e:\n",
    "            print(\"Exception: {}\".format(e))\n",
    "        \n",
    "    tweets = np.array(tweets)\n",
    "    labels = np.array(labels)\n",
    "    \n",
    "    return tweets, labels\n",
    "\n",
    "tweets, labels = TweetExtractor(\"Tweets.csv\")"
   ]
  },
  {
   "cell_type": "markdown",
   "metadata": {},
   "source": [
    "# Plot label distribution"
   ]
  },
  {
   "cell_type": "code",
   "execution_count": 3,
   "metadata": {},
   "outputs": [
    {
     "name": "stdout",
     "output_type": "stream",
     "text": [
      "[7392 1550 1517]\n",
      "['negative' 'neutral' 'positive']\n"
     ]
    },
    {
     "data": {
      "image/png": "[encoded data removed]",
      "text/plain": [
       "<Figure size 432x288 with 1 Axes>"
      ]
     },
     "metadata": {
      "needs_background": "light"
     },
     "output_type": "display_data"
    }
   ],
   "source": [
    "import numpy\n",
    "label_dist, label_dist_count = numpy.unique(labels, return_counts = True)\n",
    "label_dist = label_dist.astype(\"str\")\n",
    "\n",
    "print(label_dist_count)\n",
    "print(label_dist)\n",
    "\n",
    "import matplotlib.pyplot as plt\n",
    "fig = plt.figure()\n",
    "ax = fig.add_axes([0,0,1,1])\n",
    "ax.set_ylabel('Count')\n",
    "ax.set_title('Label distribution')\n",
    "ax.bar(label_dist,label_dist_count)\n",
    "plt.show()"
   ]
  },
  {
   "cell_type": "markdown",
   "metadata": {},
   "source": [
    "# Step 2: Remove duplicates"
   ]
  },
  {
   "cell_type": "code",
   "execution_count": 4,
   "metadata": {},
   "outputs": [
    {
     "name": "stdout",
     "output_type": "stream",
     "text": [
      "The number of unique idx in X_data_array: 10356\n",
      "\n"
     ]
    }
   ],
   "source": [
    "__, index_list, counts = numpy.unique(tweets, return_index=True, return_counts = True, axis = 0)\n",
    "print(\"The number of unique idx in X_data_array: {}\\n\".format(len(index_list)))"
   ]
  },
  {
   "cell_type": "code",
   "execution_count": 5,
   "metadata": {},
   "outputs": [],
   "source": [
    "unique_training_data = []\n",
    "unique_training_label = []\n",
    "\n",
    "for index, (transcript, label) in enumerate(zip(tweets, labels)):\n",
    "    \n",
    "    # if index is in index_list\n",
    "    if index in index_list:\n",
    "        unique_training_data.append(transcript)\n",
    "        unique_training_label.append(label)\n",
    "        \n",
    "    else:\n",
    "        pass\n",
    "    \n",
    "unique_training_data = numpy.array(unique_training_data)\n",
    "unique_training_label = numpy.array(unique_training_label)"
   ]
  },
  {
   "cell_type": "markdown",
   "metadata": {},
   "source": [
    "# Step 3: Clean tweets\n",
    "- lowercase\n",
    "- remove punctuations\n",
    "- remove white spaces"
   ]
  },
  {
   "cell_type": "code",
   "execution_count": 6,
   "metadata": {},
   "outputs": [
    {
     "name": "stdout",
     "output_type": "stream",
     "text": [
      "training phrase example after data cleaning: \n",
      "virginamerica its really aggressive to blast obnoxious entertainment in your guests faces amp they have little recourse\n"
     ]
    }
   ],
   "source": [
    "import string\n",
    "import re \n",
    "\n",
    "def processor(X_data_array):\n",
    "    clean_data_array = []\n",
    "    for sentence in X_data_array:\n",
    "        # Lowercase\n",
    "        sentence = sentence.lower()\n",
    "        \n",
    "        # Remove punctuations\n",
    "        sentence = sentence.translate(str.maketrans('', '', string.punctuation))\n",
    "        \n",
    "        # Remove white spaces\n",
    "        sentence = re.sub(' +', ' ',sentence).strip()\n",
    "        \n",
    "        # Append cleaned sentences\n",
    "        clean_data_array.append(sentence)\n",
    "\n",
    "    clean_data_array = numpy.array(clean_data_array)\n",
    "    return clean_data_array\n",
    "\n",
    "\n",
    "unique_training_data = processor(unique_training_data)\n",
    "\n",
    "print(\"training phrase example after data cleaning: \\n{}\".format(unique_training_data[1]))"
   ]
  },
  {
   "cell_type": "markdown",
   "metadata": {},
   "source": [
    "# Step 4: Tokenizer and pad text data to sequence"
   ]
  },
  {
   "cell_type": "code",
   "execution_count": 7,
   "metadata": {},
   "outputs": [
    {
     "name": "stdout",
     "output_type": "stream",
     "text": [
      "len of total features: 13886\n",
      "max sentence len: 36\n"
     ]
    }
   ],
   "source": [
    "word_dict = {}\n",
    "for sentence in unique_training_data:\n",
    "    for word in sentence.split(\" \"):\n",
    "        if word not in word_dict:\n",
    "            word_dict[word] = True\n",
    "\n",
    "max_sentence_length = 0\n",
    "for sentence in unique_training_data:\n",
    "    sentence = sentence.split(\" \")\n",
    "    sentence_len = len(sentence)\n",
    "    if sentence_len > max_sentence_length:\n",
    "        max_sentence_length = sentence_len\n",
    "\n",
    "print(\"len of total features: {}\".format(len(word_dict)))\n",
    "print(\"max sentence len: {}\".format(max_sentence_length))"
   ]
  },
  {
   "cell_type": "markdown",
   "metadata": {},
   "source": [
    "# Tokenization"
   ]
  },
  {
   "cell_type": "code",
   "execution_count": 8,
   "metadata": {},
   "outputs": [],
   "source": [
    "from keras.preprocessing.text import text_to_word_sequence\n",
    "tokenized_data = []\n",
    "for sentence in unique_training_data:\n",
    "    tokens = text_to_word_sequence(sentence)\n",
    "    tokenized_data.append(tokens)"
   ]
  },
  {
   "cell_type": "markdown",
   "metadata": {},
   "source": [
    "# pad text data to sequence"
   ]
  },
  {
   "cell_type": "code",
   "execution_count": 9,
   "metadata": {},
   "outputs": [],
   "source": [
    "vocab_size = len(word_dict)\n",
    "max_text_length = max_sentence_length\n",
    "x_tokenizer = text.Tokenizer(num_words=vocab_size)\n",
    "x_tokenizer.fit_on_texts(tokenized_data)\n",
    "x_tokenized = x_tokenizer.texts_to_sequences(tokenized_data)\n",
    "x_train_data = sequence.pad_sequences(x_tokenized, maxlen=max_text_length)"
   ]
  },
  {
   "cell_type": "markdown",
   "metadata": {},
   "source": [
    "# get word index vocab"
   ]
  },
  {
   "cell_type": "code",
   "execution_count": 10,
   "metadata": {},
   "outputs": [],
   "source": [
    "word_index = x_tokenizer.word_index"
   ]
  },
  {
   "cell_type": "markdown",
   "metadata": {},
   "source": [
    "# train Word2Vec model (transfer learning)"
   ]
  },
  {
   "cell_type": "code",
   "execution_count": 13,
   "metadata": {},
   "outputs": [
    {
     "data": {
      "text/plain": [
       "(1443801, 1887010)"
      ]
     },
     "execution_count": 13,
     "metadata": {},
     "output_type": "execute_result"
    }
   ],
   "source": [
    "from gensim.models import Word2Vec\n",
    "\n",
    "embed_dim = 300\n",
    "# size option needs to be set to 300 to be the same as Google's pre-trained model\n",
    "model = Word2Vec(min_count=1, sg = 1, size = embed_dim, compute_loss = True, workers = 4)\n",
    " \n",
    "# assign the vectors to the vocabs that are in Google's pre-trained model and your sentences defined above.\n",
    "model.build_vocab(tokenized_data)\n",
    " \n",
    "# lockf needs to be set to 1.0 to allow continued training.\n",
    "model.intersect_word2vec_format('GoogleNews-vectors-negative300.bin', lockf=1.0, binary=True)\n",
    " \n",
    "# continue training with you own data\n",
    "model.train(tokenized_data, total_examples=model.corpus_count, epochs = 10)"
   ]
  },
  {
   "cell_type": "markdown",
   "metadata": {},
   "source": [
    "# create a weight matrix for the Embedding layer"
   ]
  },
  {
   "cell_type": "code",
   "execution_count": 14,
   "metadata": {},
   "outputs": [
    {
     "name": "stderr",
     "output_type": "stream",
     "text": [
      "c:\\users\\voice\\anaconda3\\envs\\enable-gpu\\lib\\site-packages\\ipykernel_launcher.py:1: DeprecationWarning: Call to deprecated `syn0` (Attribute will be removed in 4.0.0, use self.vectors instead).\n",
      "  \"\"\"Entry point for launching an IPython kernel.\n"
     ]
    }
   ],
   "source": [
    "w2v = dict(zip(model.wv.index2word, model.wv.syn0))\n",
    "def get_weight_matrix(embedding, vocab):\n",
    "    # total vocabulary size plus 0 for unknown words\n",
    "    vocab_size = len(vocab) + 1\n",
    "    # define weight matrix dimensions with all 0\n",
    "    weight_matrix = np.zeros((vocab_size, 300))\n",
    "    # step vocab, store vectors using the Tokenizer's integer mapping\n",
    "    for word, i in vocab.items():\n",
    "        weight_matrix[i] = embedding.get(word)\n",
    "    return weight_matrix\n",
    "\n",
    "embedding_matrix = get_weight_matrix(w2v, word_index)"
   ]
  },
  {
   "cell_type": "markdown",
   "metadata": {},
   "source": [
    "# Checkpoint "
   ]
  },
  {
   "cell_type": "code",
   "execution_count": 15,
   "metadata": {},
   "outputs": [
    {
     "name": "stdout",
     "output_type": "stream",
     "text": [
      "shape of X_data_array: (10356, 36)\n"
     ]
    }
   ],
   "source": [
    "print(\"shape of X_data_array: {}\".format(x_train_data.shape))"
   ]
  },
  {
   "cell_type": "markdown",
   "metadata": {},
   "source": [
    "# Plot label distribution"
   ]
  },
  {
   "cell_type": "code",
   "execution_count": 16,
   "metadata": {},
   "outputs": [
    {
     "name": "stdout",
     "output_type": "stream",
     "text": [
      "[7326 1539 1491]\n",
      "['negative' 'neutral' 'positive']\n"
     ]
    },
    {
     "data": {
      "image/png": "[encoded data removed]",
      "text/plain": [
       "<Figure size 432x288 with 1 Axes>"
      ]
     },
     "metadata": {
      "needs_background": "light"
     },
     "output_type": "display_data"
    }
   ],
   "source": [
    "label_dist, label_dist_count = numpy.unique(unique_training_label, return_counts = True)\n",
    "label_dist = label_dist.astype(\"str\")\n",
    "\n",
    "print(label_dist_count)\n",
    "print(label_dist)\n",
    "\n",
    "import matplotlib.pyplot as plt\n",
    "fig = plt.figure()\n",
    "ax = fig.add_axes([0,0,1,1])\n",
    "ax.set_ylabel('Count')\n",
    "ax.set_title('Label distribution')\n",
    "ax.bar(label_dist,label_dist_count)\n",
    "plt.show()"
   ]
  },
  {
   "cell_type": "markdown",
   "metadata": {},
   "source": [
    "# Binarize labels and one hot encode"
   ]
  },
  {
   "cell_type": "code",
   "execution_count": 17,
   "metadata": {},
   "outputs": [],
   "source": [
    "from numpy import array\n",
    "from numpy import argmax\n",
    "from sklearn.preprocessing import LabelEncoder\n",
    "from sklearn.preprocessing import OneHotEncoder\n",
    "# define example\n",
    "data = unique_training_label\n",
    "values = array(data)\n",
    "# integer encode\n",
    "label_encoder = LabelEncoder()\n",
    "integer_encoded = label_encoder.fit_transform(values)\n",
    "#print(integer_encoded)\n",
    "# binary encode\n",
    "onehot_encoder = OneHotEncoder(sparse=False)\n",
    "integer_encoded = integer_encoded.reshape(len(integer_encoded), 1)\n",
    "onehot_encoded = onehot_encoder.fit_transform(integer_encoded)\n",
    "#print(onehot_encoded)\n",
    "Y_data_encoded = onehot_encoded"
   ]
  },
  {
   "cell_type": "markdown",
   "metadata": {},
   "source": [
    "# Step 5: Split data in train and test"
   ]
  },
  {
   "cell_type": "code",
   "execution_count": 18,
   "metadata": {},
   "outputs": [],
   "source": [
    "from sklearn.model_selection import train_test_split\n",
    "x_train, x_val, y_train, y_val = train_test_split(x_train_data, Y_data_encoded, test_size = 0.20, random_state = 1, stratify=Y_data_encoded)"
   ]
  },
  {
   "cell_type": "markdown",
   "metadata": {},
   "source": [
    "# Create the Embedding Layer"
   ]
  },
  {
   "cell_type": "code",
   "execution_count": 56,
   "metadata": {},
   "outputs": [],
   "source": [
    "embedding_dim = 300\n",
    "model_lstm = Sequential()\n",
    "#create a embedding layer using pre trained word2vec model\n",
    "model_lstm.add(Embedding(len(word_index) + 1,\n",
    "                         embedding_dim,\n",
    "                         weights=[embedding_matrix],\n",
    "                         input_length=max_text_length,\n",
    "                         trainable=False))\n",
    "model_lstm.add(Dropout(0.4))"
   ]
  },
  {
   "cell_type": "markdown",
   "metadata": {},
   "source": [
    "# Build model"
   ]
  },
  {
   "cell_type": "code",
   "execution_count": 57,
   "metadata": {},
   "outputs": [
    {
     "name": "stdout",
     "output_type": "stream",
     "text": [
      "Model: \"sequential_7\"\n",
      "_________________________________________________________________\n",
      "Layer (type)                 Output Shape              Param #   \n",
      "=================================================================\n",
      "embedding_5 (Embedding)      (None, 36, 300)           4144500   \n",
      "_________________________________________________________________\n",
      "dropout_16 (Dropout)         (None, 36, 300)           0         \n",
      "_________________________________________________________________\n",
      "bidirectional_3 (Bidirection (None, 600)               1442400   \n",
      "_________________________________________________________________\n",
      "dropout_17 (Dropout)         (None, 600)               0         \n",
      "_________________________________________________________________\n",
      "dense_19 (Dense)             (None, 600)               360600    \n",
      "_________________________________________________________________\n",
      "dropout_18 (Dropout)         (None, 600)               0         \n",
      "_________________________________________________________________\n",
      "dense_20 (Dense)             (None, 3)                 1803      \n",
      "=================================================================\n",
      "Total params: 5,949,303\n",
      "Trainable params: 1,804,803\n",
      "Non-trainable params: 4,144,500\n",
      "_________________________________________________________________\n"
     ]
    }
   ],
   "source": [
    "model_lstm.add(Bidirectional(LSTM(embedding_dim)))\n",
    "model_lstm.add(Dropout(0.4))\n",
    "model_lstm.add(Dense(600, activation=\"relu\"))\n",
    "model_lstm.add(Dropout(0.4))\n",
    "model_lstm.add(Dense(3, activation=\"softmax\"))\n",
    "model_lstm.summary()"
   ]
  },
  {
   "cell_type": "markdown",
   "metadata": {},
   "source": [
    "# Train model"
   ]
  },
  {
   "cell_type": "code",
   "execution_count": 58,
   "metadata": {},
   "outputs": [
    {
     "name": "stdout",
     "output_type": "stream",
     "text": [
      "Epoch 1/20\n",
      "259/259 [==============================] - 6s 25ms/step - loss: 0.5910 - accuracy: 0.7688 - val_loss: 0.3623 - val_accuracy: 0.8687\n",
      "Epoch 2/20\n",
      "259/259 [==============================] - 5s 21ms/step - loss: 0.3861 - accuracy: 0.8568 - val_loss: 0.3368 - val_accuracy: 0.8808\n",
      "Epoch 3/20\n",
      "259/259 [==============================] - 5s 21ms/step - loss: 0.3565 - accuracy: 0.8697 - val_loss: 0.3166 - val_accuracy: 0.8875\n",
      "Epoch 4/20\n",
      "259/259 [==============================] - 5s 21ms/step - loss: 0.3466 - accuracy: 0.8723 - val_loss: 0.2994 - val_accuracy: 0.8948\n",
      "Epoch 5/20\n",
      "259/259 [==============================] - 5s 21ms/step - loss: 0.3319 - accuracy: 0.8769 - val_loss: 0.3020 - val_accuracy: 0.8890\n",
      "Epoch 6/20\n",
      "259/259 [==============================] - 5s 21ms/step - loss: 0.3297 - accuracy: 0.8810 - val_loss: 0.2968 - val_accuracy: 0.8919\n",
      "Epoch 7/20\n",
      "259/259 [==============================] - 5s 21ms/step - loss: 0.3274 - accuracy: 0.8807 - val_loss: 0.3014 - val_accuracy: 0.8914\n",
      "Epoch 8/20\n",
      "259/259 [==============================] - 5s 21ms/step - loss: 0.3202 - accuracy: 0.8825 - val_loss: 0.2907 - val_accuracy: 0.8972\n",
      "Epoch 9/20\n",
      "259/259 [==============================] - 6s 21ms/step - loss: 0.3118 - accuracy: 0.8842 - val_loss: 0.3043 - val_accuracy: 0.8914\n",
      "Epoch 10/20\n",
      "259/259 [==============================] - 5s 21ms/step - loss: 0.3069 - accuracy: 0.8873 - val_loss: 0.2948 - val_accuracy: 0.8948\n",
      "Epoch 11/20\n",
      "259/259 [==============================] - 5s 21ms/step - loss: 0.2952 - accuracy: 0.8906 - val_loss: 0.2931 - val_accuracy: 0.8938\n",
      "Epoch 12/20\n",
      "259/259 [==============================] - 5s 21ms/step - loss: 0.2949 - accuracy: 0.8933 - val_loss: 0.2903 - val_accuracy: 0.8986\n",
      "Epoch 13/20\n",
      "259/259 [==============================] - 5s 21ms/step - loss: 0.2936 - accuracy: 0.8915 - val_loss: 0.2826 - val_accuracy: 0.8929\n",
      "Epoch 14/20\n",
      "259/259 [==============================] - 5s 21ms/step - loss: 0.2893 - accuracy: 0.8918 - val_loss: 0.2865 - val_accuracy: 0.8996\n",
      "Epoch 15/20\n",
      "259/259 [==============================] - 5s 21ms/step - loss: 0.2775 - accuracy: 0.8990 - val_loss: 0.2836 - val_accuracy: 0.8967\n",
      "Epoch 16/20\n",
      "259/259 [==============================] - 5s 21ms/step - loss: 0.2730 - accuracy: 0.8991 - val_loss: 0.2837 - val_accuracy: 0.8967\n",
      "Epoch 17/20\n",
      "259/259 [==============================] - 5s 21ms/step - loss: 0.2702 - accuracy: 0.9029 - val_loss: 0.2867 - val_accuracy: 0.8996\n",
      "Epoch 18/20\n",
      "259/259 [==============================] - 5s 21ms/step - loss: 0.2654 - accuracy: 0.9021 - val_loss: 0.3023 - val_accuracy: 0.8977\n",
      "Epoch 19/20\n",
      "259/259 [==============================] - 5s 21ms/step - loss: 0.2597 - accuracy: 0.9022 - val_loss: 0.2837 - val_accuracy: 0.9011\n",
      "Epoch 20/20\n",
      "259/259 [==============================] - 5s 21ms/step - loss: 0.2576 - accuracy: 0.9037 - val_loss: 0.2975 - val_accuracy: 0.8991\n"
     ]
    }
   ],
   "source": [
    "from keras.optimizers import Adam\n",
    "model_lstm.compile(loss=\"categorical_crossentropy\", optimizer=Adam(lr=0.0001), metrics=['accuracy'])\n",
    "history_lstm = model_lstm.fit(x_train,y_train,batch_size = 32, epochs = 20, validation_data = (x_val, y_val))"
   ]
  },
  {
   "cell_type": "markdown",
   "metadata": {},
   "source": [
    "# Plot loss and accuracy"
   ]
  },
  {
   "cell_type": "code",
   "execution_count": 59,
   "metadata": {},
   "outputs": [
    {
     "data": {
      "image/png": "[encoded data removed]",
      "text/plain": [
       "<Figure size 432x288 with 1 Axes>"
      ]
     },
     "metadata": {
      "needs_background": "light"
     },
     "output_type": "display_data"
    }
   ],
   "source": [
    "import matplotlib.pyplot as plt\n",
    "plt.plot(history_lstm.history['loss'])\n",
    "plt.plot(history_lstm.history['val_loss'])\n",
    "plt.title('model loss')\n",
    "plt.ylabel('loss')\n",
    "plt.xlabel('epoch')\n",
    "plt.legend(['train', 'test'], loc='upper left')\n",
    "plt.show()"
   ]
  },
  {
   "cell_type": "code",
   "execution_count": 60,
   "metadata": {},
   "outputs": [
    {
     "data": {
      "image/png": "[encoded data removed]",
      "text/plain": [
       "<Figure size 432x288 with 1 Axes>"
      ]
     },
     "metadata": {
      "needs_background": "light"
     },
     "output_type": "display_data"
    }
   ],
   "source": [
    "plt.plot(history_lstm.history['accuracy'])\n",
    "plt.plot(history_lstm.history['val_accuracy'])\n",
    "plt.title('model accuracy')\n",
    "plt.ylabel('acc')\n",
    "plt.xlabel('epoch')\n",
    "plt.legend(['train', 'test'], loc='upper left')\n",
    "plt.show()"
   ]
  },
  {
   "cell_type": "markdown",
   "metadata": {},
   "source": [
    "# Confusion matrix"
   ]
  },
  {
   "cell_type": "code",
   "execution_count": 61,
   "metadata": {},
   "outputs": [
    {
     "name": "stdout",
     "output_type": "stream",
     "text": [
      "[[1418   38   10]\n",
      " [  82  212   14]\n",
      " [  47   18  233]]\n",
      "              precision    recall  f1-score   support\n",
      "\n",
      "           0       0.92      0.97      0.94      1466\n",
      "           1       0.79      0.69      0.74       308\n",
      "           2       0.91      0.78      0.84       298\n",
      "\n",
      "    accuracy                           0.90      2072\n",
      "   macro avg       0.87      0.81      0.84      2072\n",
      "weighted avg       0.90      0.90      0.90      2072\n",
      "\n",
      "\n",
      "0.8991312741312741\n"
     ]
    }
   ],
   "source": [
    "from sklearn.metrics import classification_report, confusion_matrix, accuracy_score\n",
    "\n",
    "y_pred = model_lstm.predict(x_val)\n",
    "\n",
    "conf_matrix = confusion_matrix(y_val.argmax(axis=1), y_pred.argmax(axis=1))\n",
    "print(conf_matrix)\n",
    "print(classification_report(y_val.argmax(axis=1), y_pred.argmax(axis=1)))\n",
    "print()\n",
    "print(accuracy_score(y_val.argmax(axis=1), y_pred.argmax(axis=1)))"
   ]
  },
  {
   "cell_type": "markdown",
   "metadata": {},
   "source": [
    "# Transformer model"
   ]
  },
  {
   "cell_type": "code",
   "execution_count": 41,
   "metadata": {},
   "outputs": [],
   "source": [
    "from tensorflow.keras import layers\n",
    "from tensorflow import keras\n",
    "from tensorflow.keras import layers"
   ]
  },
  {
   "cell_type": "markdown",
   "metadata": {},
   "source": [
    "# Multi Head Self Attention"
   ]
  },
  {
   "cell_type": "code",
   "execution_count": 62,
   "metadata": {},
   "outputs": [],
   "source": [
    "class MultiHeadSelfAttention(layers.Layer):\n",
    "    def __init__(self, embed_dim, num_heads=8):\n",
    "        super(MultiHeadSelfAttention, self).__init__()\n",
    "        self.embed_dim = embed_dim\n",
    "        self.num_heads = num_heads\n",
    "        if embed_dim % num_heads != 0:\n",
    "            raise ValueError(\n",
    "                f\"embedding dimension = {embed_dim} should be divisible by number of heads = {num_heads}\"\n",
    "            )\n",
    "        self.projection_dim = embed_dim // num_heads\n",
    "        self.query_dense = layers.Dense(embed_dim)\n",
    "        self.key_dense = layers.Dense(embed_dim)\n",
    "        self.value_dense = layers.Dense(embed_dim)\n",
    "        self.combine_heads = layers.Dense(embed_dim)\n",
    "\n",
    "    def attention(self, query, key, value):\n",
    "        score = tf.matmul(query, key, transpose_b=True)\n",
    "        dim_key = tf.cast(tf.shape(key)[-1], tf.float32)\n",
    "        scaled_score = score / tf.math.sqrt(dim_key)\n",
    "        weights = tf.nn.softmax(scaled_score, axis=-1)\n",
    "        output = tf.matmul(weights, value)\n",
    "        return output, weights\n",
    "\n",
    "    def separate_heads(self, x, batch_size):\n",
    "        x = tf.reshape(x, (batch_size, -1, self.num_heads, self.projection_dim))\n",
    "        return tf.transpose(x, perm=[0, 2, 1, 3])\n",
    "\n",
    "    def call(self, inputs):\n",
    "        # x.shape = [batch_size, seq_len, embedding_dim]\n",
    "        batch_size = tf.shape(inputs)[0]\n",
    "        query = self.query_dense(inputs)  # (batch_size, seq_len, embed_dim)\n",
    "        key = self.key_dense(inputs)  # (batch_size, seq_len, embed_dim)\n",
    "        value = self.value_dense(inputs)  # (batch_size, seq_len, embed_dim)\n",
    "        query = self.separate_heads(\n",
    "            query, batch_size\n",
    "        )  # (batch_size, num_heads, seq_len, projection_dim)\n",
    "        key = self.separate_heads(\n",
    "            key, batch_size\n",
    "        )  # (batch_size, num_heads, seq_len, projection_dim)\n",
    "        value = self.separate_heads(\n",
    "            value, batch_size\n",
    "        )  # (batch_size, num_heads, seq_len, projection_dim)\n",
    "        attention, weights = self.attention(query, key, value)\n",
    "        attention = tf.transpose(\n",
    "            attention, perm=[0, 2, 1, 3]\n",
    "        )  # (batch_size, seq_len, num_heads, projection_dim)\n",
    "        concat_attention = tf.reshape(\n",
    "            attention, (batch_size, -1, self.embed_dim)\n",
    "        )  # (batch_size, seq_len, embed_dim)\n",
    "        output = self.combine_heads(\n",
    "            concat_attention\n",
    "        )  # (batch_size, seq_len, embed_dim)\n",
    "        return output"
   ]
  },
  {
   "cell_type": "markdown",
   "metadata": {},
   "source": [
    "# Transformer block as a layer"
   ]
  },
  {
   "cell_type": "code",
   "execution_count": 63,
   "metadata": {},
   "outputs": [],
   "source": [
    "class TransformerBlock(layers.Layer):\n",
    "    def __init__(self, embed_dim, num_heads, ff_dim, rate=0.1):\n",
    "        super(TransformerBlock, self).__init__()\n",
    "        self.att = MultiHeadSelfAttention(embed_dim, num_heads)\n",
    "        self.ffn = keras.Sequential(\n",
    "            [layers.Dense(ff_dim, activation=\"relu\"), layers.Dense(embed_dim),]\n",
    "        )\n",
    "        self.layernorm1 = layers.LayerNormalization(epsilon=1e-6)\n",
    "        self.layernorm2 = layers.LayerNormalization(epsilon=1e-6)\n",
    "        self.dropout1 = layers.Dropout(rate)\n",
    "        self.dropout2 = layers.Dropout(rate)\n",
    "\n",
    "    def call(self, inputs, training):\n",
    "        attn_output = self.att(inputs)\n",
    "        attn_output = self.dropout1(attn_output, training=training)\n",
    "        out1 = self.layernorm1(inputs + attn_output)\n",
    "        ffn_output = self.ffn(out1)\n",
    "        ffn_output = self.dropout2(ffn_output, training=training)\n",
    "        return self.layernorm2(out1 + ffn_output)"
   ]
  },
  {
   "cell_type": "markdown",
   "metadata": {},
   "source": [
    "# Build transformer model"
   ]
  },
  {
   "cell_type": "code",
   "execution_count": 64,
   "metadata": {},
   "outputs": [
    {
     "name": "stdout",
     "output_type": "stream",
     "text": [
      "Model: \"sequential_8\"\n",
      "_________________________________________________________________\n",
      "Layer (type)                 Output Shape              Param #   \n",
      "=================================================================\n",
      "embedding_6 (Embedding)      (None, 36, 300)           4144500   \n",
      "_________________________________________________________________\n",
      "dropout_19 (Dropout)         (None, 36, 300)           0         \n",
      "_________________________________________________________________\n",
      "transformer_block_2 (Transfo (None, 36, 300)           401164    \n",
      "_________________________________________________________________\n",
      "global_max_pooling1d_2 (Glob (None, 300)               0         \n",
      "_________________________________________________________________\n",
      "dropout_22 (Dropout)         (None, 300)               0         \n",
      "_________________________________________________________________\n",
      "dense_27 (Dense)             (None, 300)               90300     \n",
      "_________________________________________________________________\n",
      "dropout_23 (Dropout)         (None, 300)               0         \n",
      "_________________________________________________________________\n",
      "dense_28 (Dense)             (None, 3)                 903       \n",
      "=================================================================\n",
      "Total params: 4,636,867\n",
      "Trainable params: 492,367\n",
      "Non-trainable params: 4,144,500\n",
      "_________________________________________________________________\n"
     ]
    }
   ],
   "source": [
    "num_heads = 4  # Number of attention heads\n",
    "ff_dim = 64  # Hidden layer size in feed forward network inside transformer\n",
    "\n",
    "model_transformer = Sequential()\n",
    "# map vocab index into embedding dimensions\n",
    "model_transformer.add(Embedding(len(word_index) + 1,\n",
    "                         embedding_dim,\n",
    "                         weights=[embedding_matrix],\n",
    "                         input_length=max_text_length,\n",
    "                         trainable=False))\n",
    "\n",
    "model_transformer.add(Dropout(0.2))\n",
    "model_transformer.add(TransformerBlock(300, num_heads, ff_dim))\n",
    "model_transformer.add(GlobalMaxPooling1D())\n",
    "model_transformer.add(Dropout(0.2))\n",
    "model_transformer.add(Dense(300, activation=\"relu\"))\n",
    "model_transformer.add(Dropout(0.2))\n",
    "model_transformer.add(Dense(3, activation=\"softmax\"))\n",
    "model_transformer.summary()"
   ]
  },
  {
   "cell_type": "markdown",
   "metadata": {},
   "source": [
    "# Train model"
   ]
  },
  {
   "cell_type": "code",
   "execution_count": 65,
   "metadata": {},
   "outputs": [
    {
     "name": "stdout",
     "output_type": "stream",
     "text": [
      "Epoch 1/50\n",
      "259/259 [==============================] - 5s 17ms/step - loss: 0.7648 - accuracy: 0.7209 - val_loss: 0.4235 - val_accuracy: 0.8456\n",
      "Epoch 2/50\n",
      "259/259 [==============================] - 4s 16ms/step - loss: 0.4659 - accuracy: 0.8281 - val_loss: 0.3614 - val_accuracy: 0.8649\n",
      "Epoch 3/50\n",
      "259/259 [==============================] - 4s 16ms/step - loss: 0.3983 - accuracy: 0.8566 - val_loss: 0.3317 - val_accuracy: 0.8784\n",
      "Epoch 4/50\n",
      "259/259 [==============================] - 4s 16ms/step - loss: 0.3599 - accuracy: 0.8702 - val_loss: 0.3171 - val_accuracy: 0.8847\n",
      "Epoch 5/50\n",
      "259/259 [==============================] - 4s 16ms/step - loss: 0.3379 - accuracy: 0.8776 - val_loss: 0.3160 - val_accuracy: 0.8880\n",
      "Epoch 6/50\n",
      "259/259 [==============================] - 4s 16ms/step - loss: 0.3307 - accuracy: 0.8824 - val_loss: 0.3234 - val_accuracy: 0.8837\n",
      "Epoch 7/50\n",
      "259/259 [==============================] - 4s 16ms/step - loss: 0.3198 - accuracy: 0.8838 - val_loss: 0.2952 - val_accuracy: 0.8943\n",
      "Epoch 8/50\n",
      "259/259 [==============================] - 4s 17ms/step - loss: 0.3137 - accuracy: 0.8865 - val_loss: 0.3074 - val_accuracy: 0.8924\n",
      "Epoch 9/50\n",
      "259/259 [==============================] - 4s 16ms/step - loss: 0.2987 - accuracy: 0.8929 - val_loss: 0.3089 - val_accuracy: 0.8953\n",
      "Epoch 10/50\n",
      "259/259 [==============================] - 4s 16ms/step - loss: 0.2971 - accuracy: 0.8930 - val_loss: 0.2995 - val_accuracy: 0.8929\n",
      "Epoch 11/50\n",
      "259/259 [==============================] - 8s 31ms/step - loss: 0.2900 - accuracy: 0.8958 - val_loss: 0.2972 - val_accuracy: 0.8977\n",
      "Epoch 12/50\n",
      "259/259 [==============================] - 10s 39ms/step - loss: 0.2820 - accuracy: 0.8985 - val_loss: 0.2893 - val_accuracy: 0.8967\n",
      "Epoch 13/50\n",
      "259/259 [==============================] - 11s 42ms/step - loss: 0.2885 - accuracy: 0.8941 - val_loss: 0.2839 - val_accuracy: 0.8953\n",
      "Epoch 14/50\n",
      "259/259 [==============================] - 10s 38ms/step - loss: 0.2792 - accuracy: 0.8982 - val_loss: 0.2848 - val_accuracy: 0.9020\n",
      "Epoch 15/50\n",
      "259/259 [==============================] - 11s 43ms/step - loss: 0.2737 - accuracy: 0.9005 - val_loss: 0.2924 - val_accuracy: 0.8986\n",
      "Epoch 16/50\n",
      "259/259 [==============================] - 11s 44ms/step - loss: 0.2665 - accuracy: 0.9038 - val_loss: 0.2898 - val_accuracy: 0.9011\n",
      "Epoch 17/50\n",
      "259/259 [==============================] - 10s 40ms/step - loss: 0.2705 - accuracy: 0.9038 - val_loss: 0.2905 - val_accuracy: 0.9035\n",
      "Epoch 18/50\n",
      "259/259 [==============================] - 11s 42ms/step - loss: 0.2618 - accuracy: 0.9049 - val_loss: 0.2994 - val_accuracy: 0.9030\n",
      "Epoch 19/50\n",
      "259/259 [==============================] - 11s 42ms/step - loss: 0.2579 - accuracy: 0.9054 - val_loss: 0.2768 - val_accuracy: 0.9073\n",
      "Epoch 20/50\n",
      "259/259 [==============================] - 11s 42ms/step - loss: 0.2533 - accuracy: 0.9056 - val_loss: 0.2861 - val_accuracy: 0.9064\n",
      "Epoch 21/50\n",
      "259/259 [==============================] - 11s 43ms/step - loss: 0.2557 - accuracy: 0.9067 - val_loss: 0.2975 - val_accuracy: 0.9011\n",
      "Epoch 22/50\n",
      "259/259 [==============================] - 11s 42ms/step - loss: 0.2478 - accuracy: 0.9106 - val_loss: 0.2868 - val_accuracy: 0.9011\n",
      "Epoch 23/50\n",
      "259/259 [==============================] - 11s 42ms/step - loss: 0.2489 - accuracy: 0.9108 - val_loss: 0.2873 - val_accuracy: 0.9025\n",
      "Epoch 24/50\n",
      "259/259 [==============================] - 10s 40ms/step - loss: 0.2508 - accuracy: 0.9096 - val_loss: 0.2834 - val_accuracy: 0.9035\n",
      "Epoch 25/50\n",
      "259/259 [==============================] - 11s 44ms/step - loss: 0.2378 - accuracy: 0.9159 - val_loss: 0.2849 - val_accuracy: 0.9035\n",
      "Epoch 26/50\n",
      "259/259 [==============================] - 11s 41ms/step - loss: 0.2328 - accuracy: 0.9142 - val_loss: 0.2807 - val_accuracy: 0.9025\n",
      "Epoch 27/50\n",
      "259/259 [==============================] - 11s 42ms/step - loss: 0.2413 - accuracy: 0.9141 - val_loss: 0.2940 - val_accuracy: 0.9006\n",
      "Epoch 28/50\n",
      "259/259 [==============================] - 11s 42ms/step - loss: 0.2323 - accuracy: 0.9134 - val_loss: 0.3000 - val_accuracy: 0.8982\n",
      "Epoch 29/50\n",
      "259/259 [==============================] - 11s 43ms/step - loss: 0.2320 - accuracy: 0.9148 - val_loss: 0.3011 - val_accuracy: 0.8967\n",
      "Epoch 30/50\n",
      "259/259 [==============================] - 11s 42ms/step - loss: 0.2273 - accuracy: 0.9153 - val_loss: 0.2842 - val_accuracy: 0.9054\n",
      "Epoch 31/50\n",
      "259/259 [==============================] - 9s 36ms/step - loss: 0.2278 - accuracy: 0.9177 - val_loss: 0.2800 - val_accuracy: 0.9083\n",
      "Epoch 32/50\n",
      "259/259 [==============================] - 11s 41ms/step - loss: 0.2254 - accuracy: 0.9182 - val_loss: 0.2757 - val_accuracy: 0.9083\n",
      "Epoch 33/50\n",
      "259/259 [==============================] - 11s 43ms/step - loss: 0.2236 - accuracy: 0.9178 - val_loss: 0.2843 - val_accuracy: 0.9064\n",
      "Epoch 34/50\n",
      "259/259 [==============================] - 10s 39ms/step - loss: 0.2168 - accuracy: 0.9241 - val_loss: 0.2985 - val_accuracy: 0.9030\n",
      "Epoch 35/50\n",
      "259/259 [==============================] - 10s 39ms/step - loss: 0.2157 - accuracy: 0.9225 - val_loss: 0.2852 - val_accuracy: 0.9001\n",
      "Epoch 36/50\n",
      "259/259 [==============================] - 11s 42ms/step - loss: 0.2060 - accuracy: 0.9248 - val_loss: 0.2922 - val_accuracy: 0.8962\n",
      "Epoch 37/50\n",
      "259/259 [==============================] - 11s 42ms/step - loss: 0.2055 - accuracy: 0.9258 - val_loss: 0.2838 - val_accuracy: 0.9035\n",
      "Epoch 38/50\n",
      "259/259 [==============================] - 11s 43ms/step - loss: 0.1999 - accuracy: 0.9266 - val_loss: 0.3059 - val_accuracy: 0.9006\n",
      "Epoch 39/50\n",
      "259/259 [==============================] - 11s 41ms/step - loss: 0.2009 - accuracy: 0.9273 - val_loss: 0.2920 - val_accuracy: 0.9040\n",
      "Epoch 40/50\n",
      "259/259 [==============================] - 11s 41ms/step - loss: 0.2016 - accuracy: 0.9254 - val_loss: 0.2991 - val_accuracy: 0.9049\n",
      "Epoch 41/50\n",
      "259/259 [==============================] - 11s 43ms/step - loss: 0.1902 - accuracy: 0.9297 - val_loss: 0.2898 - val_accuracy: 0.9020\n",
      "Epoch 42/50\n",
      "259/259 [==============================] - 11s 42ms/step - loss: 0.1892 - accuracy: 0.9306 - val_loss: 0.2905 - val_accuracy: 0.9015\n",
      "Epoch 43/50\n",
      "259/259 [==============================] - 11s 42ms/step - loss: 0.1891 - accuracy: 0.9326 - val_loss: 0.2960 - val_accuracy: 0.8977\n",
      "Epoch 44/50\n",
      "259/259 [==============================] - 10s 38ms/step - loss: 0.1863 - accuracy: 0.9311 - val_loss: 0.3111 - val_accuracy: 0.8977\n",
      "Epoch 45/50\n",
      "259/259 [==============================] - 11s 42ms/step - loss: 0.1879 - accuracy: 0.9311 - val_loss: 0.3134 - val_accuracy: 0.8982\n",
      "Epoch 46/50\n",
      "259/259 [==============================] - 9s 35ms/step - loss: 0.1858 - accuracy: 0.9317 - val_loss: 0.3154 - val_accuracy: 0.9020\n",
      "Epoch 47/50\n",
      "259/259 [==============================] - 9s 34ms/step - loss: 0.1867 - accuracy: 0.9319 - val_loss: 0.2895 - val_accuracy: 0.9001 1s - loss: 0.1 - ETA: 0s - l\n",
      "Epoch 48/50\n",
      "259/259 [==============================] - 11s 44ms/step - loss: 0.1782 - accuracy: 0.9317 - val_loss: 0.3083 - val_accuracy: 0.9001\n",
      "Epoch 49/50\n",
      "259/259 [==============================] - 11s 42ms/step - loss: 0.1742 - accuracy: 0.9364 - val_loss: 0.3166 - val_accuracy: 0.9025\n",
      "Epoch 50/50\n",
      "259/259 [==============================] - 11s 44ms/step - loss: 0.1707 - accuracy: 0.9376 - val_loss: 0.3072 - val_accuracy: 0.8977\n"
     ]
    }
   ],
   "source": [
    "from keras.optimizers import Adam\n",
    "model_transformer.compile(loss=\"categorical_crossentropy\", optimizer=Adam(lr=0.0001), metrics=['accuracy'])\n",
    "history_transformer = model_transformer.fit(x_train,y_train,batch_size = 32, epochs = 50, validation_data = (x_val, y_val))"
   ]
  },
  {
   "cell_type": "markdown",
   "metadata": {},
   "source": [
    "# Plot loss and accuracy"
   ]
  },
  {
   "cell_type": "code",
   "execution_count": 66,
   "metadata": {},
   "outputs": [
    {
     "data": {
      "image/png": "[encoded data removed]",
      "text/plain": [
       "<Figure size 432x288 with 1 Axes>"
      ]
     },
     "metadata": {
      "needs_background": "light"
     },
     "output_type": "display_data"
    }
   ],
   "source": [
    "import matplotlib.pyplot as plt\n",
    "plt.plot(history_transformer.history['loss'])\n",
    "plt.plot(history_transformer.history['val_loss'])\n",
    "plt.title('model loss')\n",
    "plt.ylabel('loss')\n",
    "plt.xlabel('epoch')\n",
    "plt.legend(['train', 'test'], loc='upper left')\n",
    "plt.show()"
   ]
  },
  {
   "cell_type": "code",
   "execution_count": 67,
   "metadata": {},
   "outputs": [
    {
     "data": {
      "image/png": "[encoded data removed]",
      "text/plain": [
       "<Figure size 432x288 with 1 Axes>"
      ]
     },
     "metadata": {
      "needs_background": "light"
     },
     "output_type": "display_data"
    }
   ],
   "source": [
    "plt.plot(history_transformer.history['accuracy'])\n",
    "plt.plot(history_transformer.history['val_accuracy'])\n",
    "plt.title('model accuracy')\n",
    "plt.ylabel('acc')\n",
    "plt.xlabel('epoch')\n",
    "plt.legend(['train', 'test'], loc='upper left')\n",
    "plt.show()"
   ]
  },
  {
   "cell_type": "markdown",
   "metadata": {},
   "source": [
    "# Confusion matrix"
   ]
  },
  {
   "cell_type": "code",
   "execution_count": 68,
   "metadata": {},
   "outputs": [
    {
     "name": "stdout",
     "output_type": "stream",
     "text": [
      "[[1418   38   10]\n",
      " [  82  212   14]\n",
      " [  47   18  233]]\n",
      "              precision    recall  f1-score   support\n",
      "\n",
      "           0       0.92      0.97      0.94      1466\n",
      "           1       0.79      0.69      0.74       308\n",
      "           2       0.91      0.78      0.84       298\n",
      "\n",
      "    accuracy                           0.90      2072\n",
      "   macro avg       0.87      0.81      0.84      2072\n",
      "weighted avg       0.90      0.90      0.90      2072\n",
      "\n",
      "\n",
      "0.8991312741312741\n"
     ]
    }
   ],
   "source": [
    "from sklearn.metrics import classification_report, confusion_matrix, accuracy_score\n",
    "\n",
    "y_pred = model_lstm.predict(x_val)\n",
    "\n",
    "conf_matrix = confusion_matrix(y_val.argmax(axis=1), y_pred.argmax(axis=1))\n",
    "print(conf_matrix)\n",
    "print(classification_report(y_val.argmax(axis=1), y_pred.argmax(axis=1)))\n",
    "print()\n",
    "print(accuracy_score(y_val.argmax(axis=1), y_pred.argmax(axis=1)))"
   ]
  },
  {
   "cell_type": "code",
   "execution_count": null,
   "metadata": {},
   "outputs": [],
   "source": []
  }
 ],
 "metadata": {
  "kernelspec": {
   "display_name": "Python 3",
   "language": "python",
   "name": "python3"
  },
  "language_info": {
   "codemirror_mode": {
    "name": "ipython",
    "version": 3
   },
   "file_extension": ".py",
   "mimetype": "text/x-python",
   "name": "python",
   "nbconvert_exporter": "python",
   "pygments_lexer": "ipython3",
   "version": "3.7.7"
  }
 },
 "nbformat": 4,
 "nbformat_minor": 4
}
